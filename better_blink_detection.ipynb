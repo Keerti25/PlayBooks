{
 "cells": [
  {
   "cell_type": "code",
   "execution_count": 1,
   "id": "328a1343",
   "metadata": {},
   "outputs": [],
   "source": [
    "\n",
    "import EegFunctions\n",
    "import importlib\n",
    "importlib.reload(EegFunctions)\n",
    "from EegFunctions import *\n",
    "%matplotlib qt"
   ]
  },
  {
   "cell_type": "code",
   "execution_count": 2,
   "id": "fe80e9aa",
   "metadata": {},
   "outputs": [],
   "source": [
    "class Config:\n",
    "    \"\"\"Configuration settings for P300 analysis\"\"\"\n",
    "    \n",
    "    # File paths\n",
    "    \n",
    "    DATA_FILE =  r'C:\\Users\\Keerti\\Downloads\\MySolution\\PlayBooks\\data\\1_MMN_preprocessed_interp.set'\n",
    "    DEVICE = 'unicorn'  # 'muse' or 'unicorn'\n",
    "    SAMPLING_RATE = 250\n",
    "    CHANNELS = ['TP9', 'AF7', 'AF8', 'TP10'] if DEVICE == 'muse' else ['Fz', 'C3', 'Cz', 'C4', 'Pz', 'PO7', 'Oz', 'PO8']\n",
    "    ANALYSIS_CHANNELS = ['TP9', 'TP10'] if DEVICE == 'muse' else [ 'Pz','Cz']\n",
    "    \n",
    "    EPOCH_TMIN = -0.1\n",
    "    EPOCH_TMAX = 0.6\n",
    "    BASELINE = (-0.1, 0)\n",
    "    HIGH_PASS = 1.0  # High-pass filter cutoff frequency\n",
    "    LOW_PASS = 30.0  # Low-pass filter cutoff frequency\n",
    "    "
   ]
  },
  {
   "cell_type": "code",
   "execution_count": 3,
   "id": "a4038cc6",
   "metadata": {},
   "outputs": [
    {
     "name": "stdout",
     "output_type": "stream",
     "text": [
      "=== CREATING MNE OBJECT ===\n"
     ]
    },
    {
     "name": "stderr",
     "output_type": "stream",
     "text": [
      "c:\\Users\\Keerti\\Downloads\\MySolution\\PlayBooks\\EegFunctions.py:35: RuntimeWarning: Estimated head radius (11.8 cm) is above the 99th percentile for adult head size. Check if the montage_units argument is correct (the default is \"mm\", but your channel positions may be in different units).\n",
      "  raw = mne.io.read_raw_eeglab(path, preload=True)\n"
     ]
    },
    {
     "name": "stdout",
     "output_type": "stream",
     "text": [
      "=== EXTRACTING EVENTS ===\n",
      "\n",
      "Found 1002 annotations:\n",
      "  1: 2 occurrences\n",
      "  70: 200 occurrences\n",
      "  180: 15 occurrences\n",
      "  80: 785 occurrences\n",
      "Used Annotations descriptions: [np.str_('1'), np.str_('180'), np.str_('70'), np.str_('80')]\n",
      "=== CREATING EPOCHS ===\n",
      "Not setting metadata\n",
      "1002 matching events found\n",
      "Applying baseline correction (mode: mean)\n",
      "0 projection items activated\n",
      "Using data from preloaded Raw for 1002 events and 257 original time points ...\n",
      "0 bad epochs dropped\n",
      "1: 2\n",
      "180: 15\n",
      "70: 200\n",
      "80: 785\n",
      "Created epochs - 1: 2, 180: 15, 70: 200, 80: 785\n",
      "Bin 1 (Deviant preceded by Standard) trials: 200\n",
      "Bin 2 (Standard preceded by Standard) trials: 585\n",
      "200 585\n"
     ]
    }
   ],
   "source": [
    "raw,df = create_mne_raw(Config.DATA_FILE)\n",
    "events,event_ids,stimulus_count = extract_events(raw=raw)\n",
    "Config.EPOCH_TMAX = 0.8\n",
    "Config.EPOCH_TMIN = -0.2\n",
    "Config.BASELINE = (-0.2,0)\n",
    "Config.EVENT_DICT = event_ids\n",
    "\n",
    "montage = mne.channels.make_standard_montage('standard_1020')\n",
    "eog_channels = ['HEOG-left', 'HEOG-right', 'VEOG-lower', 'HEOG-bipolar', 'VEOG-bipolar']\n",
    "channel_types = {ch: 'eog' for ch in eog_channels}\n",
    "raw.set_channel_types(channel_types)\n",
    "raw.set_montage(montage, match_case=False)\n",
    "\n",
    "\n",
    "epochs = create_epochs(raw, events,Config)\n",
    "bin_1_idx, bin_2_idx = create_bins(events)\n",
    "print(f\"Bin 1 (Deviant preceded by Standard) trials: {len(bin_1_idx)}\")\n",
    "print(f\"Bin 2 (Standard preceded by Standard) trials: {len(bin_2_idx)}\")\n",
    "epochs_bin1 = epochs[bin_1_idx]  # Deviant preceded by standard\n",
    "epochs_bin2 = epochs[bin_2_idx]\n",
    "print(len(epochs_bin1), len(epochs_bin2))"
   ]
  },
  {
   "cell_type": "code",
   "execution_count": null,
   "id": "c2a306fb",
   "metadata": {},
   "outputs": [
    {
     "name": "stdout",
     "output_type": "stream",
     "text": [
      "Setting up band-pass filter from 1 - 30 Hz\n",
      "\n",
      "FIR filter parameters\n",
      "---------------------\n",
      "Designing a one-pass, zero-phase, non-causal bandpass filter:\n",
      "- Windowed time-domain design (firwin) method\n",
      "- Hamming window with 0.0194 passband ripple and 53 dB stopband attenuation\n",
      "- Lower passband edge: 1.00\n",
      "- Lower transition bandwidth: 1.00 Hz (-6 dB cutoff frequency: 0.50 Hz)\n",
      "- Upper passband edge: 30.00 Hz\n",
      "- Upper transition bandwidth: 7.50 Hz (-6 dB cutoff frequency: 33.75 Hz)\n",
      "- Filter length: 845 samples (3.301 s)\n",
      "\n"
     ]
    },
    {
     "name": "stderr",
     "output_type": "stream",
     "text": [
      "C:\\Users\\Keerti\\AppData\\Local\\Temp\\ipykernel_15152\\2911719732.py:35: RuntimeWarning: filter_length (845) is longer than the signal (257), distortion is likely. Reduce filter length or filter a longer signal.\n",
      "  epochs_filter.filter(l_freq=Config.HIGH_PASS,\n"
     ]
    },
    {
     "name": "stdout",
     "output_type": "stream",
     "text": [
      "\n",
      "Using threshold: 100 µV\n",
      "Using channel index 32 (VEOG-bipolar) for artifact detection.\n",
      "Trials flagged for rejection: 278 (27.7%)\n"
     ]
    }
   ],
   "source": [
    "def moving_window_peak_to_peak_artifact_detection(epochs, channel_idx=32, \n",
    "                                                 window_width=0.2, window_step=0.1, \n",
    "                                                 threshold=100e-6):\n",
    "   \n",
    "    ch_idx = channel_idx \n",
    "    print(f\"Using channel index {ch_idx} ({epochs.ch_names[ch_idx]}) for artifact detection.\")\n",
    "    sfreq = epochs.info['sfreq']\n",
    "    window_samples = int(window_width * sfreq)\n",
    "    step_samples = int(window_step * sfreq)\n",
    "    data = epochs.get_data()[:, ch_idx, :] # Shape: (n_epochs, n_times)\n",
    "    n_epochs, n_times = data.shape\n",
    "    \n",
    "    bad_epochs = [None] * n_epochs\n",
    "    \n",
    "    # Process each epoch\n",
    "    for epoch_idx in range(n_epochs):\n",
    "        epoch_data = data[epoch_idx, :]\n",
    "        \n",
    "        # Apply moving window\n",
    "        for start_idx in range(0, n_times - window_samples + 1, step_samples):\n",
    "            end_idx = start_idx + window_samples\n",
    "            window_data = epoch_data[start_idx:end_idx]\n",
    "            \n",
    "            # Calculate peak-to-peak amplitude in this window\n",
    "            peak_to_peak = np.max(window_data) - np.min(window_data)\n",
    "            \n",
    "            # Check if threshold is exceeded\n",
    "            if peak_to_peak > threshold:\n",
    "                bad_epochs[epoch_idx] = epoch_idx\n",
    "                break  # No need to check more windows in this epoch\n",
    "    \n",
    "    return bad_epochs\n",
    "epochs_filter = epochs.copy()\n",
    "Config.LOW_PASS = 30\n",
    "epochs_filter.filter(l_freq=Config.HIGH_PASS,\n",
    "        h_freq=Config.LOW_PASS, \n",
    "    )\n",
    "\n",
    "thresholds_uv = [ 150,170]\n",
    "thrsh = 100\n",
    "print(f\"\\nUsing threshold: {thrsh} µV\")\n",
    "bad_epochs = moving_window_peak_to_peak_artifact_detection(epochs_filter, \n",
    "                                                            channel_idx=epochs_filter.ch_names.index('VEOG-bipolar'),\n",
    "                                                            window_width=0.2, window_step=0.1, \n",
    "                                                            threshold=thrsh * 1e-6)\n",
    "rejection_rate = np.where(bad_epochs)[0].shape[0] / len(epochs_filter) * 100\n",
    "print(f\"Trials flagged for rejection: {np.where(bad_epochs)[0].shape[0]} ({rejection_rate:.1f}%)\")\n"
   ]
  },
  {
   "cell_type": "code",
   "execution_count": 25,
   "id": "b7381d06",
   "metadata": {},
   "outputs": [],
   "source": [
    "def moving_window_step_artifact_detection(epochs, channel_name=\"VEOG-lower\",window_size=0.2, step_size=0.01, threshold=100):\n",
    "    sfreq = epochs.info['sfreq']\n",
    "    win_samp = int(window_size * sfreq)\n",
    "    step_samp = int(step_size * sfreq)\n",
    "\n",
    "    # Pick an EOG channel (e.g., VEOG-lower)\n",
    "    eog_data = epochs.copy().pick([channel_name]).get_data() * 1e6  # µV\n",
    "    n_epochs = eog_data.shape[0]\n",
    "    bad_epochs = [None] * n_epochs\n",
    "\n",
    "    for i, epoch in enumerate(eog_data):\n",
    "        max_diff = 0\n",
    "        for start in range(0, epoch.shape[1] - win_samp, step_samp):\n",
    "            half = win_samp // 2\n",
    "            mean1 = epoch[0, start:start+half].mean()\n",
    "            mean2 = epoch[0, start+half:start+win_samp].mean()\n",
    "            diff = abs(mean2 - mean1)\n",
    "            max_diff = max(max_diff, diff)\n",
    "        if max_diff > threshold:\n",
    "            bad_epochs[i] = i \n",
    "    return bad_epochs\n",
    "bad_epochs = moving_window_step_artifact_detection(epochs, channel_name=\"VEOG-lower\", window_size=0.2, step_size=0.01, threshold=50)\n"
   ]
  },
  {
   "cell_type": "code",
   "execution_count": 26,
   "id": "e94a624b",
   "metadata": {},
   "outputs": [
    {
     "name": "stdout",
     "output_type": "stream",
     "text": [
      "\n",
      "Marked 73 epochs for rejection due to blinks; 7.3% of total epochs.\n"
     ]
    }
   ],
   "source": [
    "epochs.drop_log = [None] * len(epochs)\n",
    "for i, is_bad in enumerate(bad_epochs):\n",
    "    if is_bad:\n",
    "        epochs.drop_log[i] = \"BLINK_ARTIFACT\"\n",
    "\n",
    "print(f\"\\nMarked {np.where(epochs.drop_log)[0].shape[0]} epochs for rejection due to blinks; {np.where(bad_epochs)[0].shape[0] / len(epochs) * 100:.1f}% of total epochs.\")"
   ]
  },
  {
   "cell_type": "code",
   "execution_count": 27,
   "id": "96d180ff",
   "metadata": {},
   "outputs": [
    {
     "name": "stdout",
     "output_type": "stream",
     "text": [
      "Using matplotlib as 2D backend.\n"
     ]
    }
   ],
   "source": [
    "plot_bad_epochs(epochs,bad_epochs,'VEOG-bipolar',n_epochs_to_plot=15,title=\"Blink Artifact Detection\")"
   ]
  }
 ],
 "metadata": {
  "kernelspec": {
   "display_name": ".venv",
   "language": "python",
   "name": "python3"
  },
  "language_info": {
   "codemirror_mode": {
    "name": "ipython",
    "version": 3
   },
   "file_extension": ".py",
   "mimetype": "text/x-python",
   "name": "python",
   "nbconvert_exporter": "python",
   "pygments_lexer": "ipython3",
   "version": "3.13.3"
  }
 },
 "nbformat": 4,
 "nbformat_minor": 5
}
