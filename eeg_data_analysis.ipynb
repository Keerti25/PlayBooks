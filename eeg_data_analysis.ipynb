{
 "cells": [
  {
   "cell_type": "code",
   "execution_count": 1,
   "id": "cc2c3d16",
   "metadata": {},
   "outputs": [],
   "source": [
    "import numpy as np\n",
    "import pandas as pd\n",
    "import mne\n",
    "import matplotlib.pyplot as plt\n",
    "from scipy import signal\n",
    "from scipy.signal import welch\n",
    "from autoreject import AutoReject\n",
    "# from scipy.stats import zscore\n",
    "import os\n",
    "import seaborn as sns\n",
    "# import warnings\n",
    "\n",
    "%matplotlib qt\n",
    "mne.set_config('MNE_BROWSER_THEME', 'light')\n",
    "# %matplotlib inline"
   ]
  },
  {
   "cell_type": "code",
   "execution_count": 25,
   "id": "633e74b8",
   "metadata": {},
   "outputs": [],
   "source": [
    "class Config:\n",
    "    \"\"\"Configuration settings for P300 analysis\"\"\"\n",
    "    \n",
    "    # File paths\n",
    "    \n",
    "    DATA_FILE =  r'C:\\Users\\Keerti\\Downloads\\MySolution\\PlayBooks\\data\\pre_self_reflect.csv'\n",
    "    RESULTS_DIR = \"C:/Users/Keerti/Downloads/MySolution/EEG-ExPy/tests/Analysis/processing_result\"\n",
    "    SESSION_TYPE = 'baseline_post_reflection_unicorn'\n",
    "    \n",
    "    # Device configuration\n",
    "    DEVICE = 'unicorn'  # 'muse' or 'unicorn'\n",
    "    SAMPLING_RATE = 250\n",
    "    CHANNELS = ['TP9', 'AF7', 'AF8', 'TP10'] if DEVICE == 'muse' else ['Fz', 'C3', 'Cz', 'C4', 'Pz', 'PO7', 'Oz', 'PO8']\n",
    "    ANALYSIS_CHANNELS = ['TP9', 'TP10'] if DEVICE == 'muse' else [ 'Pz','Cz']\n",
    "    \n",
    "    # Filtering parameters\n",
    "    HIGH_PASS = 0.1\n",
    "    LOW_PASS = 30\n",
    "    NOTCH_FREQ = [60]\n",
    "  \n",
    "    FREQ_BANDS = {\n",
    "        'theta': (4, 8),\n",
    "        'alpha': (8, 12),\n",
    "        'beta': (12, 30),\n",
    "        'gamma': (30, 40)\n",
    "    }\n",
    "\n",
    "       # Channels for P300 analysis\n",
    "    \n",
    "    # Epoching parameters\n",
    "    EPOCH_TMIN = -0.1\n",
    "    EPOCH_TMAX = 0.6\n",
    "    BASELINE = (-0.1, 0)\n",
    "    \n",
    "    # Event codes\n",
    "    EVENT_DICT = {'standard': 1, 'deviant': 2}\n",
    "\n",
    "def create_mne_raw(path, unit_conversion=1e-6,sampling_rate=250):\n",
    "    \"\"\"Convert DataFrame to MNE Raw object\"\"\"\n",
    "    print(\"=== CREATING MNE OBJECT ===\")\n",
    "    \n",
    "    extension = path.split('.')[-1]\n",
    "    df = None\n",
    "    if extension =='csv':\n",
    "        df = pd.read_csv(path)\n",
    "        CHANNELS = df.columns[1:-1].to_list()\n",
    "        eeg_data = df[CHANNELS].values.T * unit_conversion \n",
    "        print(CHANNELS)\n",
    "            # Create MNE info object\n",
    "        info = mne.create_info(\n",
    "            ch_names=CHANNELS, \n",
    "            sfreq=sampling_rate, \n",
    "            ch_types=['eeg'] * len(CHANNELS)\n",
    "        )\n",
    "        \n",
    "        # Create Raw object\n",
    "        raw = mne.io.RawArray(eeg_data, info)\n",
    "    elif extension in ('set','fdt'):\n",
    "        raw = mne.io.read_raw_eeglab(path, preload=True)\n",
    "    try:\n",
    "        montage = mne.channels.make_standard_montage('standard_1020')\n",
    "        raw.set_montage(montage, on_missing='ignore')\n",
    "    except:\n",
    "        print(\"Warning: Could not set electrode positions\")\n",
    "    return raw,df"
   ]
  },
  {
   "cell_type": "code",
   "execution_count": 26,
   "id": "833797dc",
   "metadata": {},
   "outputs": [],
   "source": [
    "def extract_events(df=None,raw=None):\n",
    "    \"\"\"Extract stimulus events from DataFrame\"\"\"\n",
    "    print(\"=== EXTRACTING EVENTS ===\")\n",
    "    if df.shape:\n",
    "        # Find stimulus events\n",
    "        \n",
    "        events_from_stim = (df['stim'] != 0.0).values\n",
    "        event_samples = np.where(events_from_stim)[0]\n",
    "        event_ids = df['stim'][events_from_stim].values.astype(int)\n",
    "        events = np.vstack([event_samples, np.zeros_like(event_samples), event_ids]).T\n",
    "        \n",
    "        print(f\"Found {len(events)} total events\")\n",
    "        print(f\"Event types: {np.unique(event_ids)}\")\n",
    "        \n",
    "        # Count events by type\n",
    "        stimulus_counts = df['stim'].value_counts()\n",
    "        print(f\"Standard trials (stim=1): {stimulus_counts.get(1.0, 0)}\")\n",
    "        print(f\"Deviant trials (stim=2): {stimulus_counts.get(2.0, 0)}\")\n",
    "    elif raw:\n",
    "        if raw.annotations:\n",
    "            print(f\"\\nFound {len(raw.annotations)} annotations:\")\n",
    "            unique_descriptions = set(raw.annotations.description)\n",
    "            stimulus_counts = 0\n",
    "            for desc in unique_descriptions:\n",
    "                count = sum(1 for d in raw.annotations.description if d == desc)\n",
    "                stimulus_counts+=count\n",
    "                print(f\"  {desc}: {count} occurrences\")\n",
    "            \n",
    "            # Convert annotations to events\n",
    "            events, event_ids = mne.events_from_annotations(raw)\n",
    "        else:\n",
    "            try:\n",
    "                events = mne.find_events(raw)\n",
    "                unique_event_ids = np.unique(events[:, 2])\n",
    "                event_ids = {f'event_{i}': int(eid) for i, eid in enumerate(unique_event_ids)}\n",
    "                print(f\"Found events: {event_ids}\")\n",
    "            except:\n",
    "                print(\"No events found!\")\n",
    "    \n",
    "    return events,event_ids, stimulus_counts\n",
    "\n",
    "# events, stimulus_counts = extract_events(raw_filtered[2])"
   ]
  },
  {
   "cell_type": "code",
   "execution_count": 27,
   "id": "f873f34b",
   "metadata": {},
   "outputs": [],
   "source": [
    "def create_epochs(raw, events):\n",
    "    \"\"\"Create epochs from raw data and events\"\"\"\n",
    "    print(\"=== CREATING EPOCHS ===\")\n",
    "    \n",
    "    epochs = mne.Epochs(\n",
    "        raw, events, \n",
    "        event_id=Config.EVENT_DICT, \n",
    "        tmin=Config.EPOCH_TMIN, \n",
    "        tmax=Config.EPOCH_TMAX,\n",
    "        baseline=Config.BASELINE, \n",
    "        preload=True, \n",
    "        # reject={'eeg':0.0001}  # We'll do manual artifact rejection\n",
    "    )\n",
    "    \n",
    "    # Print counts for all event types dynamically\n",
    "    for event_type in epochs.event_id.keys():\n",
    "        print(f\"{event_type.capitalize()}: {len(epochs[event_type])}\")\n",
    "\n",
    "    # Or in one line:\n",
    "    event_counts = [f\"{event_type.capitalize()}: {len(epochs[event_type])}\" for event_type in epochs.event_id.keys()]\n",
    "    print(f\"Created epochs - {', '.join(event_counts)}\")\n",
    "    return epochs\n",
    "\n",
    "# def apply_artifact_rejection(epochs,auto_reject=False):\n",
    "    \n",
    "#     n_epochs_subset = min(200, int((len(epochs)*20)/100))\n",
    "\n",
    "#     ar = AutoReject(\n",
    "        \n",
    "#         n_jobs=2, \n",
    "#         random_state=42,    \n",
    "#     )\n",
    "\n",
    "#     print(\"Learning optimal rejection thresholds...\")\n",
    "#     epochs_subset = epochs[:n_epochs_subset].copy()\n",
    "#     ar.fit(epochs_subset)\n",
    "\n",
    "#     print(\"Applying AutoReject to all epochs...\")\n",
    "#     epochs_clean, reject_log = ar.transform(epochs, return_log=True)\n",
    "#     print(f\"Clean epochs - Standard: {len(epochs_clean['standard'])}, Deviant: {len(epochs_clean['deviant'])}\")\n",
    "#     return epochs_clean\n"
   ]
  },
  {
   "cell_type": "code",
   "execution_count": 28,
   "id": "1e42df68",
   "metadata": {},
   "outputs": [
    {
     "name": "stdout",
     "output_type": "stream",
     "text": [
      "=== CREATING MNE OBJECT ===\n",
      "['Fz', 'C3', 'Cz', 'C4', 'Pz', 'PO7', 'Oz', 'PO8']\n",
      "Creating RawArray with float64 data, n_channels=8, n_times=150084\n",
      "    Range : 0 ... 150083 =      0.000 ...   600.332 secs\n",
      "Ready.\n"
     ]
    }
   ],
   "source": [
    "raw,df = create_mne_raw(Config.DATA_FILE)\n",
    "# raw_filtered.compute_psd().plot(average=True, picks='Pz', show=True)\n"
   ]
  },
  {
   "cell_type": "code",
   "execution_count": null,
   "id": "16f64476",
   "metadata": {},
   "outputs": [],
   "source": [
    "# Time domain analysis of Raw\n",
    "raw.plot(scalings={'eeg': 50e-6},butterfly=False, n_channels=len(raw.ch_names),duration=60 )"
   ]
  },
  {
   "cell_type": "code",
   "execution_count": 138,
   "id": "98a321af",
   "metadata": {},
   "outputs": [
    {
     "name": "stdout",
     "output_type": "stream",
     "text": [
      "Effective window size : 8.192 (s)\n"
     ]
    },
    {
     "name": "stdout",
     "output_type": "stream",
     "text": [
      "Plotting power spectral density (dB=True).\n"
     ]
    }
   ],
   "source": [
    "# Frequency Domain (Power Spectrum Domain) of raw\n",
    "raw.compute_psd().plot(average=True,picks=['Pz','Cz']);"
   ]
  },
  {
   "cell_type": "markdown",
   "id": "aa07d8b0",
   "metadata": {},
   "source": [
    "### Preprocessing"
   ]
  },
  {
   "cell_type": "code",
   "execution_count": null,
   "id": "76d71fe0",
   "metadata": {},
   "outputs": [],
   "source": [
    "# Filtering - Bandpass and Notch filter\n",
    "raw_filtered = raw.copy()\n",
    "raw_filtered.filter(\n",
    "        l_freq=Config.HIGH_PASS, \n",
    "        h_freq=Config.LOW_PASS, \n",
    "        fir_design='firwin'\n",
    "    )\n",
    "raw_filtered.notch_filter(freqs=Config.NOTCH_FREQ, fir_design='firwin')\n",
    "print(f\"Applied {Config.HIGH_PASS}-{Config.LOW_PASS} Hz bandpass and {Config.NOTCH_FREQ} Hz notch filters\")\n",
    "\n"
   ]
  },
  {
   "cell_type": "code",
   "execution_count": 68,
   "id": "ccefaaef",
   "metadata": {},
   "outputs": [
    {
     "data": {
      "text/plain": [
       "<mne_qt_browser._pg_figure.MNEQtBrowser at 0x1328a7f68c0>"
      ]
     },
     "execution_count": 68,
     "metadata": {},
     "output_type": "execute_result"
    }
   ],
   "source": [
    "raw_filtered.plot(duration=600)"
   ]
  },
  {
   "cell_type": "code",
   "execution_count": 140,
   "id": "d7708fe1",
   "metadata": {},
   "outputs": [
    {
     "name": "stdout",
     "output_type": "stream",
     "text": [
      "Effective window size : 8.192 (s)\n",
      "Plotting power spectral density (dB=True).\n"
     ]
    }
   ],
   "source": [
    "raw_filtered.compute_psd().plot(average=True, show=True,picks=['Pz','Cz']);"
   ]
  },
  {
   "cell_type": "markdown",
   "id": "dd7a07dd",
   "metadata": {},
   "source": [
    "## Extract Events and Create Epochs"
   ]
  },
  {
   "cell_type": "code",
   "execution_count": 30,
   "id": "6cbcc6ec",
   "metadata": {},
   "outputs": [
    {
     "name": "stdout",
     "output_type": "stream",
     "text": [
      "=== EXTRACTING EVENTS ===\n",
      "Found 1001 total events\n",
      "Event types: [1 2]\n",
      "Standard trials (stim=1): 758\n",
      "Deviant trials (stim=2): 243\n",
      "=== CREATING EPOCHS ===\n",
      "Not setting metadata\n"
     ]
    },
    {
     "name": "stdout",
     "output_type": "stream",
     "text": [
      "1001 matching events found\n",
      "Applying baseline correction (mode: mean)\n",
      "0 projection items activated\n",
      "Using data from preloaded Raw for 1001 events and 176 original time points ...\n",
      "1 bad epochs dropped\n",
      "Standard: 757\n",
      "Deviant: 243\n",
      "Created epochs - Standard: 757, Deviant: 243\n"
     ]
    }
   ],
   "source": [
    "\n",
    "events,event_ids, stimulus_counts = extract_events(df)\n",
    "# events,event_ids,stimulus_count = extract_events(raw=raw)\n",
    "# Config.EPOCH_TMAX = 0.8\n",
    "# Config.EPOCH_TMIN = -0.2\n",
    "# Config.BASELINE = (-0.2,0)\n",
    "# Config.EVENT_DICT = event_ids\n",
    "epochs = create_epochs(raw, events)"
   ]
  },
  {
   "cell_type": "code",
   "execution_count": 8,
   "id": "9eb4e339",
   "metadata": {},
   "outputs": [
    {
     "name": "stdout",
     "output_type": "stream",
     "text": [
      "Bin 1 (Deviant preceded by Standard) trials: 200\n",
      "Bin 2 (Standard preceded by Standard) trials: 585\n",
      "585\n"
     ]
    }
   ],
   "source": [
    "def create_bins(events):\n",
    "    \"\"\"Create bins based on stimulus sequence\"\"\"\n",
    "    bin_1_indices = []  # Deviant preceded by standard\n",
    "    bin_2_indices = []  # Standard preceded by standard\n",
    "    \n",
    "    for i, event in enumerate(events[1:], 1):  # Skip first event\n",
    "        current_event = event[2]\n",
    "        previous_event = events[i-1][2]\n",
    "        \n",
    "        # Bin 1: Current is deviant (70), previous is standard (80)\n",
    "        if current_event == 3 and previous_event == 4:\n",
    "            bin_1_indices.append(i-1)  # Adjust for epoch indexing\n",
    "            \n",
    "        # Bin 2: Current is standard (80), previous is standard (80)\n",
    "        elif current_event == 4 and previous_event == 4:\n",
    "            bin_2_indices.append(i-1)  # Adjust for epoch indexing\n",
    "    \n",
    "    return bin_1_indices, bin_2_indices\n",
    "\n",
    "# Create bins\n",
    "bin_1_idx, bin_2_idx = create_bins(events)\n",
    "print(f\"Bin 1 (Deviant preceded by Standard) trials: {len(bin_1_idx)}\")\n",
    "print(f\"Bin 2 (Standard preceded by Standard) trials: {len(bin_2_idx)}\")\n",
    "epochs_bin1 = epochs[bin_1_idx]  # Deviant preceded by standard\n",
    "epochs_bin2 = epochs[bin_2_idx]\n",
    "print(len(epochs_bin2))  # Standard preceded by standard"
   ]
  },
  {
   "cell_type": "code",
   "execution_count": 32,
   "id": "413a6679",
   "metadata": {},
   "outputs": [
    {
     "name": "stdout",
     "output_type": "stream",
     "text": [
      "\n",
      "Bin_1 SME Results:\n",
      "Number of epochs: 1000\n",
      "  Fz: SME = 1.1156634250502075e-05\n",
      "  C3: SME = 1.1270462072943968e-05\n",
      "  Cz: SME = 1.1169832970758701e-05\n",
      "  C4: SME = 1.1170680748740752e-05\n",
      "  Pz: SME = 1.0872961555314084e-05\n",
      "  PO7: SME = 1.1808086417223235e-05\n",
      "  Oz: SME = 1.1368598156181049e-05\n",
      "  PO8: SME = 1.0970875988535925e-05\n",
      "  Channels with highest SME (consider for interpolation):\n",
      "    Cz: 0.0000\n",
      "    C4: 0.0000\n",
      "    C3: 0.0000\n",
      "    Oz: 0.0000\n",
      "    PO7: 0.0000\n"
     ]
    }
   ],
   "source": [
    "def compute_sme_erplab(epoch_list, time_window):\n",
    "    \"\"\"Compute SME per bin like ERPLAB\"\"\"\n",
    "    bins = {f'Bin_{i}': v for i, v in enumerate(epoch_list, 1)}\n",
    "    sme_results = {}\n",
    "    \n",
    "    for bin_name, epochs in bins.items():\n",
    "        epochs_cropped = epochs.copy().crop(tmin=time_window[0], tmax=time_window[1])\n",
    "        data = epochs_cropped.get_data()  # (n_epochs, n_channels, n_times)\n",
    "        trial_means = np.mean(data, axis=2)  \n",
    "        sme_vals = np.std(trial_means, axis=0) / np.sqrt(trial_means.shape[0])\n",
    "        \n",
    "        sme_results[bin_name] = {\n",
    "            'sme_values': sme_vals,\n",
    "            'channel_names': epochs.ch_names,\n",
    "            'n_epochs': len(epochs)\n",
    "        }\n",
    "    \n",
    "    return sme_results\n",
    "\n",
    "# Replace your function call with:\n",
    "epoch_lists = [epochs]\n",
    "time_window=(-0.1, 0.6)\n",
    "sme_results = compute_sme_erplab(epoch_lists,time_window)\n",
    "\n",
    "# Display SME results for channel quality assessment (especially C5 and F8)\n",
    "for bin_name, results in sme_results.items():\n",
    "    print(f\"\\n{bin_name} SME Results:\")\n",
    "    print(f\"Number of epochs: {results['n_epochs']}\")\n",
    "    \n",
    "    # Find channels of interest\n",
    "    ch_names = results['channel_names']\n",
    "    sme_vals = results['sme_values']\n",
    "    for ch_idx, ch_name in enumerate(ch_names):\n",
    "       print(f\"  {ch_name}: SME = {sme_vals[ch_idx]}\")\n",
    "    \n",
    "    # Show channels with highest SME (worst quality)\n",
    "    worst_channels = np.argsort(sme_vals)[-5:]  # Top 5 worst\n",
    "    print(f\"  Channels with highest SME (consider for interpolation):\")\n",
    "    for idx in worst_channels:\n",
    "        print(f\"    {ch_names[idx]}: {sme_vals[idx]:.4f}\")\n"
   ]
  },
  {
   "cell_type": "code",
   "execution_count": 34,
   "id": "a5c0ac93",
   "metadata": {},
   "outputs": [
    {
     "name": "stdout",
     "output_type": "stream",
     "text": [
      "Channels that 'pop out' (highest SME):\n",
      "  Pz: 0.0000\n",
      "  PO8: 0.0000\n",
      "  Fz: 0.0000\n",
      "  Cz: 0.0000\n",
      "  C4: 0.0000\n",
      "  C3: 0.0000\n",
      "  Oz: 0.0000\n",
      "  PO7: 0.0000\n"
     ]
    }
   ],
   "source": [
    "bin1_sme = sme_results['Bin_1']['sme_values']\n",
    "ch_names = sme_results['Bin_1']['channel_names']\n",
    "\n",
    "# Create heatmap data (reshape SME values for visualization)\n",
    "sme_matrix = bin1_sme.reshape(1, -1)\n",
    "\n",
    "# Create color heatmap\n",
    "plt.figure(figsize=(15, 3))\n",
    "sns.heatmap(sme_matrix, \n",
    "           xticklabels=ch_names, \n",
    "           yticklabels=['SME'],\n",
    "           annot=True, \n",
    "           fmt='.3f',\n",
    "           cmap='Reds',  # Color scale - higher values = redder\n",
    "           cbar_kws={'label': 'SME Value'})\n",
    "\n",
    "plt.title('SME Values - Bin 1 (125-225ms) - Color Heatmap')\n",
    "plt.xticks(rotation=45)\n",
    "plt.tight_layout()\n",
    "plt.show()\n",
    "\n",
    "# Print channels that \"pop out\" (highest SME values)\n",
    "high_sme_idx = np.argsort(bin1_sme)[-8:]  # Top 8 worst channels\n",
    "print(\"Channels that 'pop out' (highest SME):\")\n",
    "for idx in high_sme_idx:\n",
    "   print(f\"  {ch_names[idx]}: {bin1_sme[idx]:.4f}\")"
   ]
  },
  {
   "cell_type": "markdown",
   "id": "5f945b8d",
   "metadata": {},
   "source": [
    "# Plot Channels with 2STD away"
   ]
  },
  {
   "cell_type": "code",
   "execution_count": 35,
   "id": "62415a27",
   "metadata": {},
   "outputs": [
    {
     "name": "stdout",
     "output_type": "stream",
     "text": [
      "Mean SME (excluding blink channels): 0.0000\n",
      "Standard deviation: 0.0000\n",
      "Outlier threshold (Mean + 2SD): 0.0000\n",
      "\n",
      "Outlier channels (>2 SDs above mean):\n",
      "  PO7: 0.0000 *** OUTLIER\n"
     ]
    }
   ],
   "source": [
    "bin1_sme = sme_results['Bin_1']['sme_values']\n",
    "ch_names = sme_results['Bin_1']['channel_names']\n",
    "\n",
    "exclude_channels = ['HEOG-left', 'HEOG-right', 'VEOG-lower', 'HEOG-bipolar', 'VEOG-bipolar', 'FP1', 'FP2']\n",
    "include_mask = [ch not in exclude_channels for ch in ch_names]\n",
    "\n",
    "# Calculate outlier threshold using only \"clean\" channels\n",
    "clean_sme_values = bin1_sme[include_mask]\n",
    "mean_sme = np.mean(clean_sme_values)\n",
    "std_sme = np.std(clean_sme_values)\n",
    "outlier_threshold = mean_sme + 2 * std_sme  # 2 SDs above mean\n",
    "\n",
    "# Identify outliers\n",
    "outliers = bin1_sme > outlier_threshold\n",
    "\n",
    "# Create visualization\n",
    "plt.figure(figsize=(15, 8))\n",
    "bars = plt.bar(range(len(ch_names)), bin1_sme)\n",
    "\n",
    "# Color outliers in red\n",
    "for i, (bar, is_outlier) in enumerate(zip(bars, outliers)):\n",
    "   if is_outlier:\n",
    "       bar.set_color('red')\n",
    "       bar.set_alpha(0.8)\n",
    "   else:\n",
    "       bar.set_color('lightblue')\n",
    "\n",
    "# Add threshold line\n",
    "plt.axhline(y=outlier_threshold, color='black', linestyle='--', \n",
    "           label=f'Outlier threshold (Mean + 2SD = {outlier_threshold:.3f})')\n",
    "\n",
    "plt.xlabel('Channels')\n",
    "plt.ylabel('SME Values')\n",
    "plt.title('SME Outlier Detection - Channels >2 SDs from clean channel mean')\n",
    "plt.xticks(range(len(ch_names)), ch_names, rotation=45)\n",
    "plt.legend()\n",
    "plt.grid(True, alpha=0.3)\n",
    "plt.tight_layout()\n",
    "plt.show()\n",
    "\n",
    "# Print outlier analysis results\n",
    "print(f\"Mean SME (excluding blink channels): {mean_sme:.4f}\")\n",
    "print(f\"Standard deviation: {std_sme:.4f}\")\n",
    "print(f\"Outlier threshold (Mean + 2SD): {outlier_threshold:.4f}\")\n",
    "print(f\"\\nOutlier channels (>2 SDs above mean):\")\n",
    "for i, ch_name in enumerate(ch_names):\n",
    "   if outliers[i]:\n",
    "       print(f\"  {ch_name}: {bin1_sme[i]:.4f} *** OUTLIER\")"
   ]
  },
  {
   "cell_type": "markdown",
   "id": "69e31dfc",
   "metadata": {},
   "source": [
    "### Plot Mean ERP with STD Shaded Area"
   ]
  },
  {
   "cell_type": "code",
   "execution_count": 39,
   "id": "bc46f089",
   "metadata": {},
   "outputs": [],
   "source": [
    "\n",
    "channel_name = 'Pz'\n",
    "epochs_data = epochs.get_data(picks=channel_name)\n",
    "mean_erp = epochs_data.mean(axis=0).squeeze()\n",
    "std_erp = epochs_data.std(axis=0).squeeze()\n",
    "times = epochs.times\n",
    "fig, ax = plt.subplots(figsize=(8, 5))\n",
    "ax.plot(times, mean_erp * 1e6, color='b', label='Mean ERP') # Convert to microvolts\n",
    "ax.fill_between(times, (mean_erp - std_erp) * 1e6, (mean_erp + std_erp) * 1e6,\n",
    "                color='b', alpha=0.2, label='Standard Deviation')\n",
    "ax.axvline(0, color='r', linestyle='--', label='Stimulus Onset')\n",
    "ax.axhline(0, color='k', linestyle='-')\n",
    "ax.set_xlabel('Time (s)')\n",
    "ax.set_ylabel(f'Amplitude ({channel_name}, μV)')\n",
    "ax.set_title(f'Mean ERP with STD Shaded Area for {channel_name}')\n",
    "ax.legend()\n",
    "plt.show()"
   ]
  },
  {
   "cell_type": "markdown",
   "id": "ae6fc971",
   "metadata": {},
   "source": [
    "# Individual Trial with mean"
   ]
  },
  {
   "cell_type": "code",
   "execution_count": 143,
   "id": "c7692351",
   "metadata": {},
   "outputs": [],
   "source": [
    "# Get data for the specific channel and event\n",
    "epochs_data = epochs.get_data(picks=channel_name)\n",
    "times = epochs.times\n",
    "fig, ax = plt.subplots(figsize=(8, 5))\n",
    "for trial in epochs_data:\n",
    "    ax.plot(times, trial.squeeze() * 1e6, color='black', alpha=0.3, linewidth=0.5)\n",
    "mean_erp = epochs_data.mean(axis=0).squeeze()\n",
    "ax.plot(times, mean_erp * 1e6, color='b', linewidth=2, label='Mean ERP')\n",
    "ax.axvline(0, color='r', linestyle='--', label='Stimulus Onset')\n",
    "ax.set_xlabel('Time (s)')\n",
    "ax.set_ylabel(f'Amplitude ({channel_name}, μV)')\n",
    "ax.set_title(f'Individual Trials and Mean ERP for {channel_name}')\n",
    "ax.legend()\n",
    "plt.show()"
   ]
  },
  {
   "cell_type": "code",
   "execution_count": 25,
   "id": "a3160489",
   "metadata": {},
   "outputs": [
    {
     "data": {
      "text/plain": [
       "{'standard': 1, 'deviant': 2}"
      ]
     },
     "execution_count": 25,
     "metadata": {},
     "output_type": "execute_result"
    }
   ],
   "source": [
    "# Events of epochs\n",
    "epochs.event_id"
   ]
  },
  {
   "cell_type": "code",
   "execution_count": null,
   "id": "f35a6fa6",
   "metadata": {},
   "outputs": [
    {
     "data": {
      "text/plain": [
       "<mne_qt_browser._pg_figure.MNEQtBrowser at 0x1328a7f6710>"
      ]
     },
     "execution_count": 75,
     "metadata": {},
     "output_type": "execute_result"
    },
    {
     "name": "stdout",
     "output_type": "stream",
     "text": [
      "Dropped 0 epochs: \n",
      "The following epochs were marked as bad and are dropped:\n",
      "[]\n",
      "Channels marked as bad:\n",
      "none\n"
     ]
    }
   ],
   "source": [
    "epochs.plot()"
   ]
  },
  {
   "cell_type": "code",
   "execution_count": 76,
   "id": "1284f0b9",
   "metadata": {},
   "outputs": [],
   "source": [
    "fig, ax = plt.subplots(figsize=[15, 5])\n",
    "\n",
    "mne.viz.plot_events(events, raw_filtered.info['sfreq'],  \n",
    "                    event_id=epochs.event_id,                    \n",
    "                    axes=ax)\n",
    "plt.show()"
   ]
  },
  {
   "cell_type": "markdown",
   "id": "b0279ae0",
   "metadata": {},
   "source": [
    "# Visualize Average ERP Across Conditions of Interest – Before Artifact Correction"
   ]
  },
  {
   "cell_type": "code",
   "execution_count": 144,
   "id": "51bd9a04",
   "metadata": {},
   "outputs": [
    {
     "name": "stdout",
     "output_type": "stream",
     "text": [
      "Not setting metadata\n",
      "1000 matching events found\n",
      "No baseline correction applied\n",
      "0 projection items activated\n",
      "Not setting metadata\n",
      "1000 matching events found\n",
      "No baseline correction applied\n",
      "0 projection items activated\n"
     ]
    }
   ],
   "source": [
    "epochs.plot_image(picks=['Pz','Cz']);"
   ]
  },
  {
   "cell_type": "code",
   "execution_count": 145,
   "id": "b7be08eb",
   "metadata": {},
   "outputs": [
    {
     "name": "stdout",
     "output_type": "stream",
     "text": [
      "No projector specified for this dataset. Please consider the method self.add_proj.\n"
     ]
    }
   ],
   "source": [
    "epochs.average().detrend().plot_joint(picks=['Pz','Cz']);"
   ]
  },
  {
   "cell_type": "markdown",
   "id": "49fc51ab",
   "metadata": {},
   "source": [
    "#### Preclean data for ICA using AutoReject"
   ]
  },
  {
   "cell_type": "code",
   "execution_count": 146,
   "id": "56e9f5a7",
   "metadata": {},
   "outputs": [],
   "source": [
    "ar = AutoReject(n_interpolate=[1, 2], # interpolate 1 or 2 channels only\n",
    "                random_state=42,\n",
    "                picks=mne.pick_types(epochs.info, \n",
    "                                     eeg=True,\n",
    "                                     eog=False\n",
    "                                    ),\n",
    "                n_jobs=-1, \n",
    "                verbose=False\n",
    "                )\n",
    "\n",
    "ar.fit(epochs)\n",
    "reject_log = ar.get_reject_log(epochs)"
   ]
  },
  {
   "cell_type": "code",
   "execution_count": 147,
   "id": "a83ca74d",
   "metadata": {},
   "outputs": [
    {
     "data": {
      "text/plain": [
       "{'n_interpolate': [1, 2],\n",
       " 'consensus': array([0. , 0.1, 0.2, 0.3, 0.4, 0.5, 0.6, 0.7, 0.8, 0.9, 1. ]),\n",
       " 'thresh_method': 'bayesian_optimization',\n",
       " 'cv': 10,\n",
       " 'verbose': False,\n",
       " 'picks': array([0, 1, 2, 3, 4, 5, 6, 7]),\n",
       " 'n_jobs': -1,\n",
       " 'random_state': 42,\n",
       " 'picks_': array([0, 1, 2, 3, 4, 5, 6, 7]),\n",
       " 'cv_': KFold(n_splits=10, random_state=None, shuffle=False),\n",
       " 'dots': None,\n",
       " 'n_interpolate_': {'eeg': 2},\n",
       " 'consensus_': {'eeg': np.float64(0.7000000000000001)},\n",
       " 'threshes_': {'Fz': np.float64(6.788578565740298e-05),\n",
       "  'C3': np.float64(0.0004918572069786741),\n",
       "  'Cz': np.float64(0.00016408233412001724),\n",
       "  'C4': np.float64(0.00034812171056563445),\n",
       "  'Pz': np.float64(0.00033542723216886856),\n",
       "  'PO7': np.float64(0.0015987367022272153),\n",
       "  'Oz': np.float64(0.0006710558762351387),\n",
       "  'PO8': np.float64(0.0014812724918368005)},\n",
       " 'loss_': {'eeg': array([[[           inf,            inf,            inf,            inf,\n",
       "                      inf,            inf,            inf,            inf,\n",
       "                      inf,            inf],\n",
       "          [           inf,            inf,            inf,            inf,\n",
       "                      inf,            inf,            inf,            inf,\n",
       "                      inf,            inf]],\n",
       "  \n",
       "         [[           inf,            inf,            inf,            inf,\n",
       "                      inf,            inf,            inf,            inf,\n",
       "                      inf,            inf],\n",
       "          [           inf,            inf,            inf,            inf,\n",
       "                      inf,            inf,            inf,            inf,\n",
       "                      inf,            inf]],\n",
       "  \n",
       "         [[4.53314070e-05, 6.41236751e-05, 2.96081434e-05, 8.44933279e-05,\n",
       "           1.21787283e-04, 8.09032414e-05, 1.52845651e-04, 1.30848759e-04,\n",
       "           1.92870416e-04, 9.36943042e-05],\n",
       "          [           inf,            inf,            inf,            inf,\n",
       "                      inf,            inf,            inf,            inf,\n",
       "                      inf,            inf]],\n",
       "  \n",
       "         [[5.39144525e-05, 5.27540455e-05, 3.94987763e-05, 8.87847073e-05,\n",
       "           1.10562864e-04, 9.30738448e-05, 1.64605348e-04, 1.42825283e-04,\n",
       "           1.94556947e-04, 1.00169664e-04],\n",
       "          [4.22252597e-05, 5.92416242e-05, 3.34794715e-05, 9.29234132e-05,\n",
       "           1.15480859e-04, 7.86133614e-05, 1.48012451e-04, 1.30533072e-04,\n",
       "           1.91242974e-04, 9.59828767e-05]],\n",
       "  \n",
       "         [[4.42367630e-05, 5.67316967e-05, 3.16792285e-05, 8.79925528e-05,\n",
       "           1.25017847e-04, 8.31883269e-05, 1.60091841e-04, 1.35676682e-04,\n",
       "           1.91702785e-04, 9.60832291e-05],\n",
       "          [4.25369339e-05, 5.23032532e-05, 3.30341966e-05, 8.83809495e-05,\n",
       "           1.19972747e-04, 8.39947857e-05, 1.47273289e-04, 1.34228286e-04,\n",
       "           1.90979908e-04, 9.43832583e-05]],\n",
       "  \n",
       "         [[4.42367630e-05, 5.67316967e-05, 3.16792285e-05, 8.79925528e-05,\n",
       "           1.25017847e-04, 8.31883269e-05, 1.60091841e-04, 1.35676682e-04,\n",
       "           1.91702785e-04, 9.60832291e-05],\n",
       "          [4.25369339e-05, 5.23032532e-05, 3.30341966e-05, 8.83809495e-05,\n",
       "           1.19972747e-04, 8.39947857e-05, 1.47273289e-04, 1.34228286e-04,\n",
       "           1.90979908e-04, 9.43832583e-05]],\n",
       "  \n",
       "         [[3.83045875e-05, 8.67159789e-05, 5.62577776e-05, 1.28205175e-04,\n",
       "           1.50829517e-04, 7.44687158e-05, 1.27800007e-04, 1.06393512e-04,\n",
       "           1.79685844e-04, 9.74874636e-05],\n",
       "          [4.61738263e-05, 4.68744413e-05, 3.39632180e-05, 8.66724752e-05,\n",
       "           1.18573173e-04, 8.54148546e-05, 1.49389189e-04, 1.34982894e-04,\n",
       "           1.90605687e-04, 9.19586129e-05]],\n",
       "  \n",
       "         [[3.02674685e-05, 1.10704278e-04, 8.32973770e-05, 1.57176979e-04,\n",
       "           1.81126658e-04, 7.35902403e-05, 8.47482594e-05, 8.32006969e-05,\n",
       "           1.61813891e-04, 1.27547957e-04],\n",
       "          [3.52151160e-05, 5.29596928e-05, 2.71122438e-05, 9.56434547e-05,\n",
       "           1.27118484e-04, 7.67374179e-05, 1.31327649e-04, 1.22863230e-04,\n",
       "           1.88771258e-04, 9.48427452e-05]],\n",
       "  \n",
       "         [[3.97685522e-05, 1.46036854e-04, 1.16500661e-04, 2.03503788e-04,\n",
       "           2.11839000e-04, 1.01301155e-04, 9.86328496e-05, 9.74079083e-05,\n",
       "           1.87422736e-04, 1.71387869e-04],\n",
       "          [3.39615039e-05, 6.45788218e-05, 3.24173973e-05, 1.12256690e-04,\n",
       "           1.33405632e-04, 6.92838114e-05, 1.26728004e-04, 1.10418225e-04,\n",
       "           1.85488790e-04, 1.01551520e-04]],\n",
       "  \n",
       "         [[3.93389369e-05, 1.02634914e-04, 7.28429301e-05, 1.58364241e-04,\n",
       "           1.71906099e-04, 7.87655301e-05, 1.11711420e-04, 1.02775766e-04,\n",
       "           1.86252364e-04, 1.38617483e-04],\n",
       "          [3.28108841e-05, 6.01263548e-05, 2.90591251e-05, 1.07202468e-04,\n",
       "           1.29495654e-04, 7.17327335e-05, 1.30430725e-04, 1.15260060e-04,\n",
       "           1.86022939e-04, 9.90352669e-05]],\n",
       "  \n",
       "         [[3.93389369e-05, 1.02634914e-04, 7.28429301e-05, 1.58364241e-04,\n",
       "           1.71906099e-04, 7.87655301e-05, 1.11711420e-04, 1.02775766e-04,\n",
       "           1.86252364e-04, 1.38617483e-04],\n",
       "          [3.28108841e-05, 6.01263548e-05, 2.90591251e-05, 1.07202468e-04,\n",
       "           1.29495654e-04, 7.17327335e-05, 1.30430725e-04, 1.15260060e-04,\n",
       "           1.86022939e-04, 9.90352669e-05]]])},\n",
       " 'local_reject_': {'eeg': _AutoReject(consensus=0.1, n_interpolate=0,\n",
       "        picks=[np.int64(0), np.int64(1), np.int64(2), np.int64(3), np.int64(4), np.int64(5), np.int64(6), np.int64(7)],\n",
       "        verbose=False)}}"
      ]
     },
     "execution_count": 147,
     "metadata": {},
     "output_type": "execute_result"
    }
   ],
   "source": [
    "ar.__dict__\n",
    "# 'n_interpolate': This tells you that AutoReject was configured to test interpolating (filling in) one or two bad channels at a time.\n",
    "# 'n_interpolate_': The optimal setting it found for your EEG data was to interpolate just one/n channel. \n",
    "#   -- Interpolation is a technique where the values of a bad channel are estimated and replaced using the data from neighboring, good channels.\n",
    "# 'consensus': AutoReject tested different consensus values, which represent the percentage of channels in an EEG epoch (a small segment of data) that must be bad to consider the entire epoch as \"bad\" and reject it\n",
    "# 'consensus_': The best consensus value it found for your data \n",
    "# 'thresh_method':  algorithm used to find the best settings (like n_interpolate and consensus). It's a smart way to search through different combinations to find the ones that result in the cleanest data.\n",
    "# 'threshes_': This is one of the most important parts of the output. These are the local rejection thresholds for each individual EEG channel.  AutoReject calculated a unique threshold for each channel (like 'Fz', 'C3', etc.) to determine if a signal within that specific channel is too noisy or \"bad.\" A higher threshold means the channel can tolerate more noise before being marked as bad.\n",
    "# 'cv': This stands for cross-validation. The data was split into 10 different folds to ensure that the chosen settings work well across the entire dataset, not just on a small part of it. This helps prevent overfitting.\n",
    "# 'verbose':\n",
    "# 'picks': It's the list of channel indices you provide to the AutoReject object when you create it or when you call a function like fit. This tells the algorithm which specific channels from your dataset it should consider when performing the artifact rejection.\n",
    "# 'picks_': It is the learned or internal attribute of the fitted AutoReject object. It stores the final list of channel indices that the algorithm actually used for its computations. In most cases, picks_ will be identical to picks, confirming that the model used the channels you specified. However, in more complex scenarios, if AutoReject has to adjust the channel list (e.g., if you gave it a list of channel types like 'eeg' and it internally mapped those to indices), picks_ would reflect the final, definite list of channels that were processed. It acts as a record of the channels the model was trained on.\n",
    "# 'n_jobs': This means AutoReject used all available CPU cores to speed up the processing.\n",
    "# 'random_state': This is a seed for the random number generator, ensuring that if you run the same code again, you'll get the exact same results.\n",
    "# 'cv_': This is the cross-validation object used during the fitting process. It's an instance of KFold, a class from the scikit-learn library. KFold(n_splits=10, random_state=None, shuffle=False) means the data was split into 10 distinct parts (folds). AutoReject used 9 of these parts to \"train\" and find the best parameters, and the remaining 1 part to \"test\" and see how well those parameters performed. It repeated this process 10 times, so each part got a turn at being the test set. This ensures the chosen parameters are robust and not just a good fit for one specific part of your data.\n",
    "# 'dots': This parameter would hold information about the locations of the EEG electrodes if it were provided during the fitting process. Since it's None, it means the electrode locations weren't explicitly given to AutoReject, and it performed the calculations without that spatial information.\n",
    "# 'loss_': This large, nested array represents the loss values for the different combinations of n_interpolate and consensus that were tested during the Bayesian optimization. Each number is a score indicating how well a particular combination of settings performed. A lower loss value means better performance. The inf (infinity) values likely indicate combinations that were not tested because they were considered non-optimal from the beginning.\n",
    "# 'local_reject_': This final part shows the best-performing AutoReject model. It confirms the optimal settings that the fit method found: consensus=0.1 (which is slightly different from the consensus_ value, because this one refers to the local rejection step), and n_interpolate=0 (which means it’s not interpolating channels at this stage, but rather using the global n_interpolate_ for the final clean data)."
   ]
  },
  {
   "cell_type": "markdown",
   "id": "3fdb0665",
   "metadata": {},
   "source": [
    "---\n",
    "\n",
    "### Step 1. Compute candidate thresholds\n",
    "\n",
    "For one channel:\n",
    "\n",
    "* For each epoch → compute **ptp = max – min amplitude**.\n",
    "* Collect all those ptp values → this gives a **sorted list of candidate thresholds** (from least noisy to most noisy).\n",
    "\n",
    "So if you had 100 epochs, you now have 100 possible threshold candidates.\n",
    "\n",
    "---\n",
    "\n",
    "### Step 2. Evaluate thresholds\n",
    "\n",
    "For each candidate threshold:\n",
    "\n",
    "* Mark epochs as **good** if ptp ≤ threshold, **bad** otherwise.\n",
    "* Keep only the \"good\" ones and compute cross-validation performance (e.g., how stable the averaged signal looks across folds).\n",
    "\n",
    "---\n",
    "\n",
    "### Step 3. Choose the best threshold\n",
    "\n",
    "* If using **Random Search**: test a random subset of thresholds.\n",
    "* If using **Bayesian Optimization**: test smarter candidates iteratively to converge faster.\n",
    "\n",
    "The threshold that gives the **best cross-validation performance** is selected.\n",
    "\n",
    "---\n",
    "\n",
    " Autoreject **doesn’t directly set threshold per epoch**. Instead, it evaluates **candidate thresholds** (derived from epoch ptp values) and finds the **one global threshold for that channel** that works best across all epochs via cross-validation.\n",
    "\n",
    "---\n",
    "\n",
    "### Step 4: Consensus and Interpolation\n",
    "\n",
    "These two (`consensus_` and `n_interpolate_`) are the *core hyperparameters* of **global autoreject** (when you fit it across multiple channels). \n",
    "\n",
    "---\n",
    "\n",
    "### 🔹 1. `n_interpolate_`\n",
    "\n",
    "* **Meaning**: how many sensors to interpolate when an epoch is marked bad.\n",
    "\n",
    "  * If `n_interpolate = 1`, replace the worst channel in the epoch.\n",
    "  * If `n_interpolate = 2`, replace the 2 worst channels, etc.\n",
    "* **How estimated**:\n",
    "\n",
    "  * `_run_local_reject_cv` loops over candidate values of `n_interpolate` (e.g. 1, 2, …).\n",
    "  * For each, it interpolates that many bad channels in each epoch.\n",
    "  * Then computes cross-validated **loss** (same stability score as we discussed).\n",
    "  * The value minimizing CV loss is chosen → `n_interpolate_[ch_type]`.\n",
    "\n",
    "---\n",
    "\n",
    "### 🔹 2. `consensus_`\n",
    "\n",
    "* **Meaning**: what fraction of sensors need to agree that an epoch is bad before discarding it.\n",
    "\n",
    "  * Example: If `consensus = 0.3` and you have 64 channels → at least 19 channels must flag epoch as bad to reject it.\n",
    "* **How estimated**:\n",
    "\n",
    "  * `_run_local_reject_cv` also loops over candidate `consensus` values (a grid of fractions).\n",
    "  * For each `consensus`, it marks epochs as bad if enough channels exceed their individual thresholds.\n",
    "  * Again, CV loss is computed.\n",
    "  * The best value becomes `consensus_[ch_type]`.\n",
    "\n",
    "---\n",
    "\n",
    "### 🔹 3. Joint tuning\n",
    "\n",
    "`_run_local_reject_cv` actually runs a **grid search** over `(consensus, n_interpolate)` pairs with CV.\n",
    "\n",
    "* Loss is stored in a 3D array: `loss[consensus_idx, n_interp_idx, fold]`.\n",
    "* The best pair is picked per channel type (`ch_type`) and stored in the fitted `AutoReject` object.\n",
    "\n",
    "---\n",
    "\n",
    "### 🔹 Intuition\n",
    "\n",
    "* `n_interpolate_` balances *repairing vs. discarding* bad channels in an epoch.\n",
    "* `consensus_` balances *sensitivity vs. robustness* to noise across sensors.\n",
    "* Cross-validation ensures you’re picking the pair that yields the most **stable average ERP** without over-rejecting or under-rejecting.\n",
    "\n",
    "---\n",
    "\n",
    "**TLDR**:\n",
    "\n",
    "* `n_interpolate_` = optimal number of bad sensors to interpolate (instead of dropping the epoch).\n",
    "* `consensus_` = optimal fraction of sensors that must vote “bad” to throw away an epoch.\n",
    "  Both are found via **cross-validation grid search** that minimizes epoch-to-mean instability.\n",
    "\n",
    "---\n"
   ]
  },
  {
   "cell_type": "markdown",
   "id": "fa902f17",
   "metadata": {},
   "source": [
    "### Visualize Interpolated and Bad epochs"
   ]
  },
  {
   "cell_type": "code",
   "execution_count": 123,
   "id": "e2d0255b",
   "metadata": {},
   "outputs": [],
   "source": [
    "import matplotlib.pyplot as plt\n",
    "fig, ax = plt.subplots(figsize=[15, 5])\n",
    "reject_log.plot('horizontal', ax=ax, aspect='auto');\n",
    "# plt.show()\n"
   ]
  },
  {
   "cell_type": "markdown",
   "id": "1477a698",
   "metadata": {},
   "source": [
    "# Visualize bad sensors/channel per trials"
   ]
  },
  {
   "cell_type": "code",
   "execution_count": null,
   "id": "96c7c8c0",
   "metadata": {},
   "outputs": [
    {
     "name": "stdout",
     "output_type": "stream",
     "text": [
      "You seem to have overlapping epochs. Some event lines may be duplicated in the plot.\n"
     ]
    },
    {
     "data": {
      "text/plain": [
       "<mne_qt_browser._pg_figure.MNEQtBrowser at 0x1328e32caf0>"
      ]
     },
     "execution_count": 86,
     "metadata": {},
     "output_type": "execute_result"
    },
    {
     "name": "stdout",
     "output_type": "stream",
     "text": [
      "Dropped 0 epochs: \n",
      "The following epochs were marked as bad and are dropped:\n",
      "[]\n",
      "Channels marked as bad:\n",
      "none\n"
     ]
    }
   ],
   "source": [
    "# \n",
    "scalings = dict(eeg=40e-6)\n",
    "reject_log.plot_epochs(epochs, scalings=scalings)"
   ]
  },
  {
   "cell_type": "markdown",
   "id": "7682efa3",
   "metadata": {},
   "source": [
    "### Fit ICA to data"
   ]
  },
  {
   "cell_type": "code",
   "execution_count": 148,
   "id": "358b0209",
   "metadata": {},
   "outputs": [
    {
     "name": "stdout",
     "output_type": "stream",
     "text": [
      "Fitting ICA to data using 8 channels (please be patient, this may take a while)\n",
      "Selecting by explained variance: 3 components\n"
     ]
    },
    {
     "name": "stderr",
     "output_type": "stream",
     "text": [
      "C:\\Users\\Keerti\\AppData\\Local\\Temp\\ipykernel_33416\\2519130980.py:10: RuntimeWarning: The epochs you passed to ICA.fit() were baseline-corrected. However, we suggest to fit ICA only on data that has been high-pass filtered, but NOT baseline-corrected.\n",
      "  ica.fit(epochs[~reject_log.bad_epochs])\n"
     ]
    },
    {
     "name": "stdout",
     "output_type": "stream",
     "text": [
      "Fitting ICA took 0.7s.\n"
     ]
    },
    {
     "data": {
      "text/html": [
       "<table class=\"table mne-repr-table\">\n",
       "    <tr>\n",
       "        <th>Method</th>\n",
       "        <td>fastica</td>\n",
       "    </tr>\n",
       "    <tr>\n",
       "        <th>Fit parameters</th>\n",
       "        <td>algorithm=parallel<br />fun=logcosh<br />fun_args=None<br />max_iter=1000<br /></td>\n",
       "    </tr>\n",
       "    <tr>\n",
       "        <th>Fit</th>\n",
       "        <td>18 iterations on epochs (131824 samples)</td>\n",
       "    </tr>\n",
       "    \n",
       "    <tr>\n",
       "        <th>ICA components</th>\n",
       "        <td>3</td>\n",
       "    </tr>\n",
       "    <tr>\n",
       "        <th>Available PCA components</th>\n",
       "        <td>8</td>\n",
       "    </tr>\n",
       "    <tr>\n",
       "        <th>Channel types</th>\n",
       "        <td>eeg</td>\n",
       "    </tr>\n",
       "    <tr>\n",
       "        <th>ICA components marked for exclusion</th>\n",
       "        <td>&mdash;</td>\n",
       "    </tr>\n",
       "    \n",
       "</table>"
      ],
      "text/plain": [
       "<ICA | epochs decomposition, method: fastica (fit in 18 iterations on 131824 samples), 3 ICA components (8 PCA components available), channel types: eeg, no sources marked for exclusion>"
      ]
     },
     "execution_count": 148,
     "metadata": {},
     "output_type": "execute_result"
    }
   ],
   "source": [
    "\n",
    "# ICA parameters\n",
    "random_state = 42   # ensures ICA is reproducible each time it's run; The value 42 is used by convention, because it is the “Answer to the Ultimate Question of Life, the Universe, and Everything” in The Hitchhiker’s Guide to the Galaxy\n",
    "ica_n_components = .99     # Specify n_components as a decimal to set % explained variance\n",
    "\n",
    "# Fit ICA\n",
    "ica = mne.preprocessing.ICA( n_components=ica_n_components,\n",
    "                            random_state=random_state)\n",
    "\n",
    "# In the ica.fit() function call, we pass the epochs data but, critically, we include the selector [~reject_log] to exclude the epochs that were marked as bad by AutoReject (~ means “not”).\n",
    "ica.fit(epochs[~reject_log.bad_epochs])"
   ]
  },
  {
   "cell_type": "markdown",
   "id": "e718deee",
   "metadata": {},
   "source": [
    "# Visualize ICA Component"
   ]
  },
  {
   "cell_type": "code",
   "execution_count": 149,
   "id": "c4eb433d",
   "metadata": {},
   "outputs": [
    {
     "name": "stdout",
     "output_type": "stream",
     "text": [
      "Not setting metadata\n",
      "749 matching events found\n",
      "No baseline correction applied\n",
      "0 projection items activated\n"
     ]
    }
   ],
   "source": [
    "ica.plot_sources(epochs[~reject_log.bad_epochs], show_scrollbars=False, show=True);"
   ]
  },
  {
   "cell_type": "code",
   "execution_count": 150,
   "id": "a6472bf4",
   "metadata": {},
   "outputs": [
    {
     "data": {
      "image/png": "[encoded data removed]",
      "text/plain": [
       "<MNEFigure size 585x260 with 3 Axes>"
      ]
     },
     "execution_count": 150,
     "metadata": {},
     "output_type": "execute_result"
    }
   ],
   "source": [
    "ica.plot_components()"
   ]
  },
  {
   "cell_type": "code",
   "execution_count": 151,
   "id": "ce74bd3c",
   "metadata": {},
   "outputs": [
    {
     "name": "stdout",
     "output_type": "stream",
     "text": [
      "    Using multitaper spectrum estimation with 7 DPSS windows\n",
      "Not setting metadata\n",
      "1000 matching events found\n",
      "No baseline correction applied\n",
      "0 projection items activated\n",
      "Not setting metadata\n",
      "1000 matching events found\n",
      "No baseline correction applied\n",
      "0 projection items activated\n",
      "Not setting metadata\n",
      "1000 matching events found\n",
      "No baseline correction applied\n",
      "0 projection items activated\n"
     ]
    },
    {
     "data": {
      "text/plain": [
       "[<Figure size 700x600 with 6 Axes>,\n",
       " <Figure size 700x600 with 6 Axes>,\n",
       " <Figure size 700x600 with 6 Axes>]"
      ]
     },
     "execution_count": 151,
     "metadata": {},
     "output_type": "execute_result"
    }
   ],
   "source": [
    "ica.plot_properties(epochs, picks=range(0, ica.n_components_))\n",
    "# , psd_args={'fmax': Config.HIGH_PASS}\n",
    "# https://labeling.ucsd.edu/tutorial/labels\n",
    "# https://mne.tools/mne-icalabel/stable/generated/examples/00_iclabel.html#fitting-and-plotting-the-ica-solution"
   ]
  },
  {
   "cell_type": "markdown",
   "id": "efeb8a5a",
   "metadata": {},
   "source": [
    "### Identifying and excluding artifact using ICALABEL\n"
   ]
  },
  {
   "cell_type": "code",
   "execution_count": 152,
   "id": "cbfded6b",
   "metadata": {},
   "outputs": [
    {
     "name": "stderr",
     "output_type": "stream",
     "text": [
      "C:\\Users\\Keerti\\AppData\\Local\\Temp\\ipykernel_33416\\3726066196.py:2: RuntimeWarning: The provided Epochs instance does not seem to be referenced to a common average reference (CAR). ICLabel was designed to classify features extracted from an EEG dataset referenced to a CAR (see the 'set_eeg_reference()' method for Raw and Epochs instances).\n",
      "  ic_labels = label_components(epochs[~reject_log.bad_epochs], ica, method=\"iclabel\")\n",
      "C:\\Users\\Keerti\\AppData\\Local\\Temp\\ipykernel_33416\\3726066196.py:2: RuntimeWarning: The provided Epochs instance is not filtered between 1 and 100 Hz. ICLabel was designed to classify features extracted from an EEG dataset bandpass filtered between 1 and 100 Hz (see the 'filter()' method for Raw and Epochs instances).\n",
      "  ic_labels = label_components(epochs[~reject_log.bad_epochs], ica, method=\"iclabel\")\n",
      "C:\\Users\\Keerti\\AppData\\Local\\Temp\\ipykernel_33416\\3726066196.py:2: RuntimeWarning: The provided ICA instance was fitted with a 'fastica' algorithm. ICLabel was designed with extended infomax ICA decompositions. To use the extended infomax algorithm, use the 'mne.preprocessing.ICA' instance with the arguments 'ICA(method='infomax', fit_params=dict(extended=True))' (scikit-learn) or 'ICA(method='picard', fit_params=dict(ortho=False, extended=True))' (python-picard).\n",
      "  ic_labels = label_components(epochs[~reject_log.bad_epochs], ica, method=\"iclabel\")\n"
     ]
    },
    {
     "name": "stdout",
     "output_type": "stream",
     "text": [
      "['brain', 'brain', 'brain']\n",
      "Excluding these ICA components: []\n"
     ]
    }
   ],
   "source": [
    "from mne_icalabel import label_components\n",
    "ic_labels = label_components(epochs[~reject_log.bad_epochs], ica, method=\"iclabel\")\n",
    "labels = ic_labels[\"labels\"]\n",
    "exclude_idx = [\n",
    "    idx for idx, label in enumerate(labels) if label not in [\"brain\", \"other\"]\n",
    "]\n",
    "print(labels)\n",
    "print(f\"Excluding these ICA components: {exclude_idx}\")"
   ]
  },
  {
   "cell_type": "code",
   "execution_count": null,
   "id": "604cd14c",
   "metadata": {},
   "outputs": [
    {
     "name": "stdout",
     "output_type": "stream",
     "text": [
      "Applying ICA to Epochs instance\n",
      "    Transforming to ICA space (3 components)\n",
      "    Zeroing out 0 ICA components\n",
      "    Projecting back using 8 PCA components\n"
     ]
    },
    {
     "name": "stderr",
     "output_type": "stream",
     "text": [
      "C:\\Users\\Keerti\\AppData\\Local\\Temp\\ipykernel_33416\\3698717886.py:2: RuntimeWarning: The data you passed to ICA.apply() was baseline-corrected. Please note that ICA can introduce DC shifts, therefore you may wish to consider baseline-correcting the cleaned data again.\n",
      "  epochs_postica = ica.apply(epochs_raw, exclude=exclude_idx)\n"
     ]
    },
    {
     "name": "stdout",
     "output_type": "stream",
     "text": [
      "Dropped 0 epochs: \n",
      "The following epochs were marked as bad and are dropped:\n",
      "[]\n",
      "Channels marked as bad:\n",
      "none\n"
     ]
    }
   ],
   "source": [
    "epochs_raw = epochs.copy()\n",
    "epochs_postica = ica.apply(epochs_raw, exclude=exclude_idx)\n",
    "\n",
    "epochs_postica.plot();"
   ]
  },
  {
   "cell_type": "code",
   "execution_count": 154,
   "id": "d0306217",
   "metadata": {},
   "outputs": [
    {
     "data": {
      "text/html": [
       "<script type=\"text/javascript\">\n",
       "    // must be `var` (not `const`) because this can get embedded multiple times on a page\n",
       "var toggleVisibility = (className) => {\n",
       "\n",
       "    const elements = document.querySelectorAll(`.${className}`);\n",
       "\n",
       "    elements.forEach(element => {\n",
       "        if (element.classList.contains(\"mne-repr-section-header\")) {\n",
       "            return  // Don't collapse the section header row\n",
       "        }\n",
       "        element.classList.toggle(\"mne-repr-collapsed\");\n",
       "    });\n",
       "\n",
       "    // trigger caret to rotate\n",
       "    var sel = `.mne-repr-section-header.${className} > th.mne-repr-section-toggle > button`;\n",
       "    const button = document.querySelector(sel);\n",
       "    button.classList.toggle(\"collapsed\");\n",
       "\n",
       "    // adjust tooltip\n",
       "    sel = `tr.mne-repr-section-header.${className}`;\n",
       "    const secHeadRow = document.querySelector(sel);\n",
       "    secHeadRow.classList.toggle(\"collapsed\");\n",
       "    secHeadRow.title = secHeadRow.title === \"Hide section\" ? \"Show section\" : \"Hide section\";\n",
       "}\n",
       "</script>\n",
       "\n",
       "<style type=\"text/css\">\n",
       "    /*\n",
       "Styles in this section apply both to the sphinx-built website docs and to notebooks\n",
       "rendered in an IDE or in Jupyter. In our web docs, styles here are complemented by\n",
       "doc/_static/styles.css and other CSS files (e.g. from the sphinx theme, sphinx-gallery,\n",
       "or bootstrap). In IDEs/Jupyter, those style files are unavailable, so only the rules in\n",
       "this file apply (plus whatever default styling the IDE applies).\n",
       "*/\n",
       ".mne-repr-table {\n",
       "    display: inline;  /* prevent using full container width */\n",
       "}\n",
       ".mne-repr-table tr.mne-repr-section-header > th {\n",
       "    padding-top: 1rem;\n",
       "    text-align: left;\n",
       "    vertical-align: middle;\n",
       "}\n",
       ".mne-repr-section-toggle > button {\n",
       "    all: unset;\n",
       "    display: block;\n",
       "    height: 1rem;\n",
       "    width: 1rem;\n",
       "}\n",
       ".mne-repr-section-toggle > button > svg {\n",
       "    height: 60%;\n",
       "}\n",
       "\n",
       "/* transition (rotation) effects on the collapser button */\n",
       ".mne-repr-section-toggle > button.collapsed > svg {\n",
       "    transition: 0.1s ease-out;\n",
       "    transform: rotate(-90deg);\n",
       "}\n",
       ".mne-repr-section-toggle > button:not(.collapsed) > svg {\n",
       "    transition: 0.1s ease-out;\n",
       "    transform: rotate(0deg);\n",
       "}\n",
       "\n",
       "/* hide collapsed table rows */\n",
       ".mne-repr-collapsed {\n",
       "    display: none;\n",
       "}\n",
       "\n",
       "\n",
       "@layer {\n",
       "    /*\n",
       "    Selectors in a `@layer` will always be lower-precedence than selectors outside the\n",
       "    layer. So even though e.g. `div.output_html` is present in the sphinx-rendered\n",
       "    website docs, the styles here won't take effect there as long as some other rule\n",
       "    somewhere in the page's CSS targets the same element.\n",
       "\n",
       "    In IDEs or Jupyter notebooks, though, the CSS files from the sphinx theme,\n",
       "    sphinx-gallery, and bootstrap are unavailable, so these styles will apply.\n",
       "\n",
       "    Notes:\n",
       "\n",
       "    - the selector `.accordion-body` is for MNE Reports\n",
       "    - the selector `.output_html` is for VSCode's notebook interface\n",
       "    - the selector `.jp-RenderedHTML` is for Jupyter notebook\n",
       "    - variables starting with `--theme-` are VSCode-specific.\n",
       "    - variables starting with `--jp-` are Jupyter styles, *some of which* are also\n",
       "      available in VSCode. Here we try the `--theme-` variable first, then fall back to\n",
       "      the `--jp-` ones.\n",
       "    */\n",
       "    .mne-repr-table {\n",
       "        --mne-toggle-color: var(--theme-foreground, var(--jp-ui-font-color1));\n",
       "        --mne-button-bg-color: var(--theme-button-background, var(--jp-info-color0, var(--jp-content-link-color)));\n",
       "        --mne-button-fg-color: var(--theme-button-foreground, var(--jp-ui-inverse-font-color0, var(--jp-editor-background)));\n",
       "        --mne-button-hover-bg-color: var(--theme-button-hover-background, var(--jp-info-color1));\n",
       "        --mne-button-radius: var(--jp-border-radius, 0.25rem);\n",
       "    }\n",
       "    /* chevron position/alignment; in VSCode it looks ok without adjusting */\n",
       "    .accordion-body .mne-repr-section-toggle > button,\n",
       "    .jp-RenderedHTML .mne-repr-section-toggle > button {\n",
       "        padding: 0 0 45% 25% !important;\n",
       "    }\n",
       "    /* chevron color; MNE Report doesn't have light/dark mode */\n",
       "    div.output_html .mne-repr-section-toggle > button > svg > path,\n",
       "    .jp-RenderedHTML .mne-repr-section-toggle > button > svg > path {\n",
       "        fill: var(--mne-toggle-color);\n",
       "    }\n",
       "    .accordion-body .mne-ch-names-btn,\n",
       "    div.output_html .mne-ch-names-btn,\n",
       "    .jp-RenderedHTML .mne-ch-names-btn {\n",
       "        -webkit-border-radius: var(--mne-button-radius);\n",
       "        -moz-border-radius: var(--mne-button-radius);\n",
       "        border-radius: var(--mne-button-radius);\n",
       "        border: none;\n",
       "        background-image: none;\n",
       "        background-color: var(--mne-button-bg-color);\n",
       "        color: var(--mne-button-fg-color);\n",
       "        font-size: inherit;\n",
       "        min-width: 1.5rem;\n",
       "        padding: 0.25rem;\n",
       "        text-align: center;\n",
       "        text-decoration: none;\n",
       "    }\n",
       "    .accordion-body .mne-ch-names-btn:hover,\n",
       "    div.output_html .mne.ch-names-btn:hover,\n",
       "    .jp-RenderedHTML .mne-ch-names-btn:hover {\n",
       "        background-color: var(--mne-button-hover-bg-color);\n",
       "        text-decoration: underline;\n",
       "    }\n",
       "    .accordion-body .mne-ch-names-btn:focus-visible,\n",
       "    div.output_html .mne-ch-names-btn:focus-visible,\n",
       "    .jp-RenderedHTML .mne-ch-names-btn:focus-visible {\n",
       "        outline: 0.1875rem solid var(--mne-button-bg-color) !important;\n",
       "        outline-offset: 0.1875rem !important;\n",
       "    }\n",
       "}\n",
       "</style>\n",
       "\n",
       "\n",
       "\n",
       "<table class=\"table mne-repr-table\">\n",
       "    \n",
       "\n",
       "\n",
       "\n",
       "\n",
       "\n",
       "\n",
       "\n",
       "<tr class=\"mne-repr-section-header general-ff31e003-490b-4812-9f0d-954ceadf1470\"\n",
       "     title=\"Hide section\" \n",
       "    onclick=\"toggleVisibility('general-ff31e003-490b-4812-9f0d-954ceadf1470')\">\n",
       "    <th class=\"mne-repr-section-toggle\">\n",
       "        <button >\n",
       "            <svg xmlns=\"http://www.w3.org/2000/svg\" viewBox=\"0 0 512 512\"><!--!Font Awesome Free 6.6.0 by @fontawesome - https://fontawesome.com License - https://fontawesome.com/license/free Copyright 2024 Fonticons, Inc.--><path d=\"M233.4 406.6c12.5 12.5 32.8 12.5 45.3 0l192-192c12.5-12.5 12.5-32.8 0-45.3s-32.8-12.5-45.3 0L256 338.7 86.6 169.4c-12.5-12.5-32.8-12.5-45.3 0s-12.5 32.8 0 45.3l192 192z\"/></svg>\n",
       "        </button>\n",
       "    </th>\n",
       "    <th colspan=\"2\">\n",
       "        <strong>General</strong>\n",
       "    </th>\n",
       "</tr>\n",
       "\n",
       "\n",
       "<tr class=\"repr-element general-ff31e003-490b-4812-9f0d-954ceadf1470 \">\n",
       "    <td class=\"mne-repr-section-toggle\"></td>\n",
       "    <td>MNE object type</td>\n",
       "    <td>Epochs</td>\n",
       "</tr>\n",
       "<tr class=\"repr-element general-ff31e003-490b-4812-9f0d-954ceadf1470 \">\n",
       "    <td class=\"mne-repr-section-toggle\"></td>\n",
       "    <td>Measurement date</td>\n",
       "    \n",
       "    <td>Unknown</td>\n",
       "    \n",
       "</tr>\n",
       "<tr class=\"repr-element general-ff31e003-490b-4812-9f0d-954ceadf1470 \">\n",
       "    <td class=\"mne-repr-section-toggle\"></td>\n",
       "    <td>Participant</td>\n",
       "    \n",
       "    <td>Unknown</td>\n",
       "    \n",
       "</tr>\n",
       "<tr class=\"repr-element general-ff31e003-490b-4812-9f0d-954ceadf1470 \">\n",
       "    <td class=\"mne-repr-section-toggle\"></td>\n",
       "    <td>Experimenter</td>\n",
       "    \n",
       "    <td>Unknown</td>\n",
       "    \n",
       "</tr>\n",
       "    \n",
       "\n",
       "\n",
       "\n",
       "\n",
       "\n",
       "\n",
       "\n",
       "<tr class=\"mne-repr-section-header acquisition-eba4bbbb-3ace-4768-a9e0-eca37f989b38\"\n",
       "     title=\"Hide section\" \n",
       "    onclick=\"toggleVisibility('acquisition-eba4bbbb-3ace-4768-a9e0-eca37f989b38')\">\n",
       "    <th class=\"mne-repr-section-toggle\">\n",
       "        <button >\n",
       "            <svg xmlns=\"http://www.w3.org/2000/svg\" viewBox=\"0 0 512 512\"><!--!Font Awesome Free 6.6.0 by @fontawesome - https://fontawesome.com License - https://fontawesome.com/license/free Copyright 2024 Fonticons, Inc.--><path d=\"M233.4 406.6c12.5 12.5 32.8 12.5 45.3 0l192-192c12.5-12.5 12.5-32.8 0-45.3s-32.8-12.5-45.3 0L256 338.7 86.6 169.4c-12.5-12.5-32.8-12.5-45.3 0s-12.5 32.8 0 45.3l192 192z\"/></svg>\n",
       "        </button>\n",
       "    </th>\n",
       "    <th colspan=\"2\">\n",
       "        <strong>Acquisition</strong>\n",
       "    </th>\n",
       "</tr>\n",
       "\n",
       "\n",
       "\n",
       "\n",
       "\n",
       "<tr class=\"repr-element acquisition-eba4bbbb-3ace-4768-a9e0-eca37f989b38 \">\n",
       "    <td class=\"mne-repr-section-toggle\"></td>\n",
       "    <td>Total number of events</td>\n",
       "    <td>1000</td>\n",
       "</tr>\n",
       "\n",
       "\n",
       "<tr class=\"repr-element acquisition-eba4bbbb-3ace-4768-a9e0-eca37f989b38 \">\n",
       "    <td class=\"mne-repr-section-toggle\"></td>\n",
       "    <td>Events counts</td>\n",
       "    \n",
       "    <td>\n",
       "        \n",
       "        deviant: 243\n",
       "        <br />\n",
       "        \n",
       "        standard: 757\n",
       "        \n",
       "        \n",
       "    </td>\n",
       "    \n",
       "</tr>\n",
       "\n",
       "\n",
       "<tr class=\"repr-element acquisition-eba4bbbb-3ace-4768-a9e0-eca37f989b38 \">\n",
       "    <td class=\"mne-repr-section-toggle\"></td>\n",
       "    <td>Time range</td>\n",
       "    <td>-0.100 – 0.600 s</td>\n",
       "</tr>\n",
       "\n",
       "\n",
       "<tr class=\"repr-element acquisition-eba4bbbb-3ace-4768-a9e0-eca37f989b38 \">\n",
       "    <td class=\"mne-repr-section-toggle\"></td>\n",
       "    <td>Baseline</td>\n",
       "    <td>-0.100 – 0.000 s</td>\n",
       "</tr>\n",
       "\n",
       "\n",
       "<tr class=\"repr-element acquisition-eba4bbbb-3ace-4768-a9e0-eca37f989b38 \">\n",
       "    <td class=\"mne-repr-section-toggle\"></td>\n",
       "    <td>Sampling frequency</td>\n",
       "    <td>250.00 Hz</td>\n",
       "</tr>\n",
       "\n",
       "\n",
       "<tr class=\"repr-element acquisition-eba4bbbb-3ace-4768-a9e0-eca37f989b38 \">\n",
       "    <td class=\"mne-repr-section-toggle\"></td>\n",
       "    <td>Time points</td>\n",
       "    <td>176</td>\n",
       "</tr>\n",
       "\n",
       "\n",
       "<tr class=\"repr-element acquisition-eba4bbbb-3ace-4768-a9e0-eca37f989b38 \">\n",
       "    <td class=\"mne-repr-section-toggle\"></td>\n",
       "    <td>Metadata</td>\n",
       "    <td>No metadata set</td>\n",
       "</tr>\n",
       "\n",
       "    \n",
       "\n",
       "\n",
       "\n",
       "\n",
       "\n",
       "\n",
       "\n",
       "<tr class=\"mne-repr-section-header channels-a0c313af-cb61-4196-9ab4-81110dcb0bfb\"\n",
       "     title=\"Hide section\" \n",
       "    onclick=\"toggleVisibility('channels-a0c313af-cb61-4196-9ab4-81110dcb0bfb')\">\n",
       "    <th class=\"mne-repr-section-toggle\">\n",
       "        <button >\n",
       "            <svg xmlns=\"http://www.w3.org/2000/svg\" viewBox=\"0 0 512 512\"><!--!Font Awesome Free 6.6.0 by @fontawesome - https://fontawesome.com License - https://fontawesome.com/license/free Copyright 2024 Fonticons, Inc.--><path d=\"M233.4 406.6c12.5 12.5 32.8 12.5 45.3 0l192-192c12.5-12.5 12.5-32.8 0-45.3s-32.8-12.5-45.3 0L256 338.7 86.6 169.4c-12.5-12.5-32.8-12.5-45.3 0s-12.5 32.8 0 45.3l192 192z\"/></svg>\n",
       "        </button>\n",
       "    </th>\n",
       "    <th colspan=\"2\">\n",
       "        <strong>Channels</strong>\n",
       "    </th>\n",
       "</tr>\n",
       "\n",
       "\n",
       "    \n",
       "<tr class=\"repr-element channels-a0c313af-cb61-4196-9ab4-81110dcb0bfb \">\n",
       "    <td class=\"mne-repr-section-toggle\"></td>\n",
       "    <td>EEG</td>\n",
       "    <td>\n",
       "        <button class=\"mne-ch-names-btn sd-sphinx-override sd-btn sd-btn-info sd-text-wrap sd-shadow-sm\" onclick=\"alert('Good EEG:\\n\\nFz, C3, Cz, C4, Pz, PO7, Oz, PO8')\" title=\"(Click to open in popup)&#13;&#13;Fz, C3, Cz, C4, Pz, PO7, Oz, PO8\">\n",
       "            8\n",
       "        </button>\n",
       "\n",
       "        \n",
       "    </td>\n",
       "</tr>\n",
       "\n",
       "\n",
       "<tr class=\"repr-element channels-a0c313af-cb61-4196-9ab4-81110dcb0bfb \">\n",
       "    <td class=\"mne-repr-section-toggle\"></td>\n",
       "    <td>Head & sensor digitization</td>\n",
       "    \n",
       "    <td>11 points</td>\n",
       "    \n",
       "</tr>\n",
       "    \n",
       "\n",
       "\n",
       "\n",
       "\n",
       "\n",
       "\n",
       "\n",
       "<tr class=\"mne-repr-section-header filters-5619036a-2216-4130-bbcf-3bc0e1a3fe81\"\n",
       "     title=\"Hide section\" \n",
       "    onclick=\"toggleVisibility('filters-5619036a-2216-4130-bbcf-3bc0e1a3fe81')\">\n",
       "    <th class=\"mne-repr-section-toggle\">\n",
       "        <button >\n",
       "            <svg xmlns=\"http://www.w3.org/2000/svg\" viewBox=\"0 0 512 512\"><!--!Font Awesome Free 6.6.0 by @fontawesome - https://fontawesome.com License - https://fontawesome.com/license/free Copyright 2024 Fonticons, Inc.--><path d=\"M233.4 406.6c12.5 12.5 32.8 12.5 45.3 0l192-192c12.5-12.5 12.5-32.8 0-45.3s-32.8-12.5-45.3 0L256 338.7 86.6 169.4c-12.5-12.5-32.8-12.5-45.3 0s-12.5 32.8 0 45.3l192 192z\"/></svg>\n",
       "        </button>\n",
       "    </th>\n",
       "    <th colspan=\"2\">\n",
       "        <strong>Filters</strong>\n",
       "    </th>\n",
       "</tr>\n",
       "\n",
       "\n",
       "<tr class=\"repr-element filters-5619036a-2216-4130-bbcf-3bc0e1a3fe81 \">\n",
       "    <td class=\"mne-repr-section-toggle\"></td>\n",
       "    <td>Highpass</td>\n",
       "    <td>0.10 Hz</td>\n",
       "</tr>\n",
       "\n",
       "\n",
       "<tr class=\"repr-element filters-5619036a-2216-4130-bbcf-3bc0e1a3fe81 \">\n",
       "    <td class=\"mne-repr-section-toggle\"></td>\n",
       "    <td>Lowpass</td>\n",
       "    <td>30.00 Hz</td>\n",
       "</tr>\n",
       "\n",
       "\n",
       "</table>"
      ],
      "text/plain": [
       "<Epochs | 1000 events (all good), -0.1 – 0.6 s (baseline -0.1 – 0 s), ~10.8 MiB, data loaded,\n",
       " 'standard': 757\n",
       " 'deviant': 243>"
      ]
     },
     "execution_count": 154,
     "metadata": {},
     "output_type": "execute_result"
    }
   ],
   "source": [
    "epochs_postica"
   ]
  },
  {
   "cell_type": "code",
   "execution_count": 155,
   "id": "e5f6ee7e",
   "metadata": {},
   "outputs": [
    {
     "name": "stdout",
     "output_type": "stream",
     "text": [
      "Dropped 251 epochs: 0, 1, 2, 3, 4, 5, 6, 7, 8, 9, 10, 11, 12, 13, 14, 16, 17, 18, 22, 23, 24, 25, 27, 30, 31, 32, 33, 36, 45, 179, 193, 234, 252, 253, 254, 256, 264, 277, 278, 291, 299, 300, 308, 311, 313, 314, 320, 330, 336, 342, 349, 351, 355, 356, 357, 358, 363, 366, 367, 369, 373, 381, 382, 387, 392, 396, 397, 398, 400, 401, 404, 405, 408, 412, 415, 416, 419, 423, 425, 432, 434, 435, 443, 456, 461, 465, 471, 472, 473, 477, 478, 485, 489, 493, 494, 495, 500, 503, 506, 507, 508, 509, 515, 517, 521, 527, 528, 529, 530, 531, 533, 534, 539, 541, 546, 547, 548, 549, 552, 553, 554, 561, 562, 566, 591, 600, 601, 602, 614, 615, 616, 627, 628, 639, 645, 646, 650, 651, 653, 654, 658, 666, 667, 687, 691, 692, 699, 702, 704, 706, 710, 712, 713, 714, 718, 719, 720, 721, 722, 723, 724, 725, 726, 728, 729, 730, 731, 732, 733, 734, 736, 738, 743, 744, 748, 749, 750, 751, 757, 766, 774, 779, 789, 795, 796, 798, 799, 808, 809, 818, 822, 823, 825, 829, 831, 832, 837, 840, 841, 842, 843, 844, 845, 846, 847, 848, 849, 852, 853, 854, 859, 860, 872, 875, 876, 884, 886, 887, 894, 899, 900, 902, 903, 905, 906, 907, 910, 911, 913, 914, 919, 923, 925, 928, 929, 936, 944, 951, 952, 955, 956, 964, 970, 971, 978, 984, 986, 992, 994, 996, 998\n"
     ]
    },
    {
     "data": {
      "text/plain": [
       "<mne_qt_browser._pg_figure.MNEQtBrowser at 0x132b9c44160>"
      ]
     },
     "execution_count": 155,
     "metadata": {},
     "output_type": "execute_result"
    }
   ],
   "source": [
    "epochs_clean, reject_log_clean = ar.transform(epochs_postica, return_log=True)\n",
    "epochs_clean.plot()"
   ]
  },
  {
   "cell_type": "code",
   "execution_count": 101,
   "id": "22638133",
   "metadata": {},
   "outputs": [
    {
     "name": "stdout",
     "output_type": "stream",
     "text": [
      "No projector specified for this dataset. Please consider the method self.add_proj.\n"
     ]
    },
    {
     "data": {
      "image/png": "[encoded data removed]",
      "text/plain": [
       "<Figure size 800x420 with 6 Axes>"
      ]
     },
     "execution_count": 101,
     "metadata": {},
     "output_type": "execute_result"
    }
   ],
   "source": [
    "epochs_clean.average().detrend().plot_joint(picks=['Pz','Cz'])"
   ]
  },
  {
   "cell_type": "code",
   "execution_count": 156,
   "id": "5ed168da",
   "metadata": {},
   "outputs": [],
   "source": [
    "\n",
    "channel_name = 'Pz'\n",
    "epochs_data = epochs_clean.get_data(picks=channel_name)\n",
    "mean_erp = epochs_data.mean(axis=0).squeeze()\n",
    "std_erp = epochs_data.std(axis=0).squeeze()\n",
    "times = epochs_clean.times\n",
    "fig, ax = plt.subplots(figsize=(8, 5))\n",
    "ax.plot(times, mean_erp * 1e6, color='b', label='Mean ERP') # Convert to microvolts\n",
    "ax.fill_between(times, (mean_erp - std_erp) * 1e6, (mean_erp + std_erp) * 1e6,\n",
    "                color='b', alpha=0.2, label='Standard Deviation')\n",
    "ax.axvline(0, color='r', linestyle='--', label='Stimulus Onset')\n",
    "ax.axhline(0, color='k', linestyle='-')\n",
    "ax.set_xlabel('Time (s)')\n",
    "ax.set_ylabel(f'Amplitude ({channel_name}, μV)')\n",
    "ax.set_title(f'Mean ERP with STD Shaded Area for {channel_name}')\n",
    "ax.legend()\n",
    "plt.show()"
   ]
  },
  {
   "cell_type": "code",
   "execution_count": 157,
   "id": "e5ec4c64",
   "metadata": {},
   "outputs": [],
   "source": [
    "# Get data for the specific channel and event\n",
    "epochs_data = epochs_clean.get_data(picks=channel_name)\n",
    "times = epochs_clean.times\n",
    "fig, ax = plt.subplots(figsize=(8, 5))\n",
    "for trial in epochs_data:\n",
    "    ax.plot(times, trial.squeeze() * 1e6, color='black', alpha=0.3, linewidth=0.5)\n",
    "mean_erp = epochs_data.mean(axis=0).squeeze()\n",
    "ax.plot(times, mean_erp * 1e6, color='b', linewidth=2, label='Mean ERP')\n",
    "ax.axvline(0, color='r', linestyle='--', label='Stimulus Onset')\n",
    "ax.set_xlabel('Time (s)')\n",
    "ax.set_ylabel(f'Amplitude ({channel_name}, μV)')\n",
    "ax.set_title(f'Individual Trials and Mean ERP for {channel_name}')\n",
    "ax.legend()\n",
    "plt.show()"
   ]
  },
  {
   "cell_type": "code",
   "execution_count": null,
   "id": "1e2dda01",
   "metadata": {},
   "outputs": [],
   "source": [
    "# path = 'C:\\Users\\Keerti\\Downloads\\MySolution\\EEG-ExPy\\tests\\Analysis\\ica_data'\n",
    "# ica.save('ica_data' + 'sub_1' + '-ica.fif', \n",
    "#         overwrite=True);"
   ]
  }
 ],
 "metadata": {
  "kernelspec": {
   "display_name": ".venv",
   "language": "python",
   "name": "python3"
  },
  "language_info": {
   "codemirror_mode": {
    "name": "ipython",
    "version": 3
   },
   "file_extension": ".py",
   "mimetype": "text/x-python",
   "name": "python",
   "nbconvert_exporter": "python",
   "pygments_lexer": "ipython3",
   "version": "3.13.3"
  }
 },
 "nbformat": 4,
 "nbformat_minor": 5
}
