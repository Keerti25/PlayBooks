{
 "cells": [
  {
   "cell_type": "code",
   "execution_count": 6,
   "id": "0ad6a71e",
   "metadata": {},
   "outputs": [],
   "source": [
    "import EegFunctions\n",
    "import importlib\n",
    "importlib.reload(EegFunctions)\n",
    "from EegFunctions import *\n",
    "%matplotlib qt"
   ]
  },
  {
   "cell_type": "code",
   "execution_count": 7,
   "id": "46a6b211",
   "metadata": {},
   "outputs": [],
   "source": [
    "class Config:\n",
    "    DATA_FILE =  r'C:\\Users\\Keerti\\Downloads\\MySolution\\PlayBooks\\data\\10_MMN_preprocessed.set'\n",
    "    DEVICE = 'unicorn'  # 'muse' or 'unicorn'\n",
    "    # SAMPLING_RATE = 250\n",
    "    CHANNELS = ['TP9', 'AF7', 'AF8', 'TP10'] if DEVICE == 'muse' else ['Fz', 'C3', 'Cz', 'C4', 'Pz', 'PO7', 'Oz', 'PO8']\n",
    "    ANALYSIS_CHANNELS = ['TP9', 'TP10'] if DEVICE == 'muse' else [ 'Pz','Cz']\n",
    "    EPOCH_TMIN = -0.2\n",
    "    EPOCH_TMAX = 0.8\n",
    "    BASELINE = (-0.2, 0)\n",
    "    HIGH_PASS = None\n",
    "    LOW_PASS = 30.0  "
   ]
  },
  {
   "cell_type": "code",
   "execution_count": 8,
   "id": "089f3738",
   "metadata": {},
   "outputs": [
    {
     "name": "stdout",
     "output_type": "stream",
     "text": [
      "=== CREATING MNE OBJECT ===\n",
      "Number of trials detected: 1\n",
      "Filtering raw data in 1 contiguous segment\n",
      "Setting up low-pass filter at 30 Hz\n",
      "\n",
      "FIR filter parameters\n",
      "---------------------\n",
      "Designing a one-pass, zero-phase, non-causal lowpass filter:\n",
      "- Windowed time-domain design (firwin) method\n",
      "- Hamming window with 0.0194 passband ripple and 53 dB stopband attenuation\n",
      "- Upper passband edge: 30.00 Hz\n",
      "- Upper transition bandwidth: 6.00 Hz (-6 dB cutoff frequency: 33.00 Hz)\n",
      "- Filter length: 141 samples (0.551 s)\n",
      "\n",
      "=== EXTRACTING EVENTS ===\n",
      "\n",
      "Found 1001 annotations:\n",
      "  1: 1 occurrences\n",
      "  180: 15 occurrences\n",
      "  70: 200 occurrences\n",
      "  80: 785 occurrences\n",
      "Used Annotations descriptions: [np.str_('1'), np.str_('180'), np.str_('70'), np.str_('80')]\n",
      "=== CREATING EPOCHS ===\n",
      "Not setting metadata\n",
      "1001 matching events found\n",
      "Applying baseline correction (mode: mean)\n",
      "0 projection items activated\n",
      "Using data from preloaded Raw for 1001 events and 257 original time points ...\n",
      "0 bad epochs dropped\n",
      "1: 1\n",
      "180: 15\n",
      "70: 200\n",
      "80: 785\n",
      "Created epochs - 1: 1, 180: 15, 70: 200, 80: 785\n",
      "Bin 1 (Deviant preceded by Standard) trials: 200\n",
      "Bin 2 (Standard preceded by Standard) trials: 584\n",
      "200 584\n"
     ]
    }
   ],
   "source": [
    "raw,df = create_mne_raw(Config.DATA_FILE)\n",
    "montage = mne.channels.make_standard_montage('standard_1020')\n",
    "eog_channels = ['HEOG-left', 'HEOG-right', 'VEOG-lower', 'HEOG-bipolar', 'VEOG-bipolar']\n",
    "channel_types = {ch: 'eog' for ch in eog_channels}\n",
    "raw.set_channel_types(channel_types)\n",
    "raw.set_montage(montage, match_case=False)\n",
    "\n",
    "raw_filtered = raw.copy()\n",
    "raw_filtered.filter(\n",
    "        l_freq=Config.HIGH_PASS, \n",
    "        h_freq=Config.LOW_PASS, \n",
    "        h_trans_bandwidth=6,\n",
    "        method='fir',\n",
    "    )\n",
    "events,event_ids,stimulus_count = extract_events(raw=raw_filtered)\n",
    "Config.EVENT_DICT = event_ids\n",
    "epochs = create_epochs(raw_filtered, events,Config)\n",
    "bin_1_idx, bin_2_idx = create_bins(events)\n",
    "print(f\"Bin 1 (Deviant preceded by Standard) trials: {len(bin_1_idx)}\")\n",
    "print(f\"Bin 2 (Standard preceded by Standard) trials: {len(bin_2_idx)}\")\n",
    "epochs_bin1 = epochs[bin_1_idx]  # Deviant preceded by standard\n",
    "epochs_bin2 = epochs[bin_2_idx]\n",
    "# all_epochs_contat = mne.concatenate_epochs([epochs_bin2, epochs_bin1])\n",
    "print(len(epochs_bin1), len(epochs_bin2))"
   ]
  },
  {
   "cell_type": "code",
   "execution_count": null,
   "id": "061ba163",
   "metadata": {},
   "outputs": [],
   "source": [
    "epochs.plot(events=True,event_id= True,n_epochs=4)"
   ]
  },
  {
   "cell_type": "code",
   "execution_count": 9,
   "id": "09546d05",
   "metadata": {},
   "outputs": [
    {
     "name": "stdout",
     "output_type": "stream",
     "text": [
      "Trials flagged for rejection: 314 (31.4%)\n",
      "Trials flagged for rejection: 354 (35.4%)\n"
     ]
    }
   ],
   "source": [
    "bad_epochs = moving_window_step_artifact_detection(epochs,\n",
    "                                                    channel_name=\"VEOG-bipolar\", \n",
    "                                                    window_size=0.2, step_size=0.01, threshold=50)\n",
    "bad_epochs_movement = moving_window_step_artifact_detection(epochs,\n",
    "                                                    channel_name=\"HEOG-bipolar\", \n",
    "                                                    window_size=0.2, step_size=0.01, threshold=32)\n",
    "epochs_blinks = epochs.copy()\n",
    "epochs_movement = epochs.copy()\n",
    "epochs_blinks.drop_log = [None] * len(epochs)\n",
    "epochs_movement.drop_log = [None] * len(epochs)\n",
    "\n",
    "for i, is_bad in enumerate(bad_epochs):\n",
    "    if is_bad:\n",
    "        epochs_blinks.drop_log[i] = \"BLINK_ARTIFACT\"\n",
    "\n",
    "for i, is_bad in enumerate(bad_epochs_movement):\n",
    "    if is_bad:\n",
    "        epochs_movement.drop_log[i] = \"EYE_MOVEMENT_ARTIFACT\"\n",
    "\n",
    "rejection_rate = np.where(bad_epochs)[0].shape[0] / len(epochs) * 100\n",
    "print(f\"Trials flagged for rejection: {np.where(bad_epochs)[0].shape[0]} ({rejection_rate:.1f}%)\")\n",
    "\n",
    "rejection_rate = np.where(bad_epochs_movement)[0].shape[0] / len(epochs) * 100\n",
    "print(f\"Trials flagged for rejection: {np.where(bad_epochs_movement)[0].shape[0]} ({rejection_rate:.1f}%)\")\n",
    "\n",
    "# plot_bad_epochs(epochs,bad_epochs,'HEOG-bipolar',n_epochs_to_plot=15,title=\"Blink Artifact Detection\")"
   ]
  },
  {
   "cell_type": "code",
   "execution_count": 188,
   "id": "cb8aa7ce",
   "metadata": {},
   "outputs": [
    {
     "name": "stdout",
     "output_type": "stream",
     "text": [
      "Dropped 314 epochs: 1, 6, 7, 9, 10, 16, 17, 20, 21, 23, 24, 25, 26, 27, 28, 33, 34, 36, 37, 40, 41, 44, 45, 48, 49, 56, 57, 60, 61, 62, 66, 67, 71, 72, 75, 76, 81, 82, 83, 84, 89, 90, 92, 93, 97, 98, 102, 103, 120, 121, 124, 125, 132, 133, 138, 139, 146, 147, 149, 150, 157, 159, 160, 163, 164, 167, 168, 171, 172, 173, 174, 190, 191, 197, 198, 200, 201, 207, 208, 215, 216, 218, 219, 220, 221, 230, 231, 235, 236, 240, 241, 252, 253, 258, 259, 261, 262, 265, 266, 275, 276, 279, 280, 285, 286, 295, 296, 303, 304, 308, 309, 316, 317, 321, 322, 330, 331, 336, 337, 344, 345, 347, 348, 358, 359, 360, 361, 365, 366, 373, 374, 379, 380, 385, 386, 387, 390, 391, 394, 395, 399, 400, 404, 405, 412, 413, 417, 418, 419, 420, 425, 426, 435, 436, 444, 445, 452, 453, 460, 461, 465, 466, 473, 474, 479, 480, 481, 482, 491, 492, 496, 497, 506, 507, 514, 515, 527, 528, 535, 536, 542, 543, 547, 548, 556, 557, 562, 563, 566, 572, 573, 576, 577, 590, 591, 598, 599, 605, 606, 609, 610, 615, 616, 617, 626, 627, 634, 635, 636, 643, 644, 649, 658, 659, 664, 665, 667, 668, 677, 678, 683, 684, 686, 687, 693, 694, 697, 698, 703, 704, 714, 715, 722, 723, 730, 731, 736, 737, 740, 741, 747, 748, 753, 754, 761, 762, 769, 770, 778, 779, 784, 785, 791, 792, 799, 800, 805, 806, 811, 812, 816, 817, 824, 825, 831, 837, 838, 844, 845, 851, 852, 859, 860, 866, 867, 876, 877, 883, 884, 890, 891, 895, 896, 902, 903, 911, 915, 916, 921, 922, 927, 928, 931, 932, 937, 940, 941, 945, 946, 952, 953, 957, 958, 967, 968, 971, 972, 973, 975, 976, 985, 986, 996, 997\n",
      "Dropped 354 epochs: 6, 7, 9, 10, 17, 20, 21, 22, 23, 24, 25, 26, 28, 33, 36, 37, 40, 41, 44, 45, 46, 47, 48, 49, 54, 56, 60, 61, 62, 66, 67, 71, 72, 75, 76, 81, 82, 83, 84, 85, 86, 88, 89, 90, 91, 92, 93, 97, 98, 99, 100, 102, 103, 104, 105, 113, 120, 121, 125, 138, 139, 140, 141, 142, 146, 149, 150, 159, 163, 164, 167, 168, 171, 172, 190, 197, 198, 200, 207, 208, 218, 220, 221, 225, 226, 229, 230, 239, 241, 246, 247, 249, 251, 252, 256, 257, 258, 259, 260, 261, 262, 265, 266, 268, 269, 274, 275, 276, 279, 280, 283, 285, 296, 297, 303, 308, 316, 317, 318, 319, 320, 321, 322, 326, 327, 330, 331, 334, 336, 337, 344, 345, 347, 348, 358, 360, 361, 362, 365, 370, 373, 374, 379, 380, 388, 389, 390, 391, 395, 399, 404, 405, 412, 413, 417, 418, 419, 420, 425, 426, 429, 435, 436, 439, 444, 445, 452, 453, 460, 461, 465, 466, 473, 474, 479, 480, 482, 491, 492, 496, 497, 501, 502, 504, 505, 506, 508, 509, 512, 515, 522, 524, 527, 530, 531, 533, 534, 535, 536, 542, 543, 547, 548, 549, 550, 551, 560, 561, 562, 563, 566, 568, 569, 572, 573, 576, 577, 578, 590, 591, 609, 610, 615, 616, 617, 626, 627, 635, 641, 642, 643, 648, 649, 653, 654, 655, 656, 657, 658, 664, 665, 667, 668, 674, 675, 677, 678, 683, 686, 687, 693, 697, 698, 702, 703, 714, 715, 722, 723, 730, 731, 735, 736, 737, 740, 741, 747, 748, 753, 754, 761, 762, 763, 769, 770, 771, 775, 776, 778, 779, 785, 791, 792, 799, 800, 801, 805, 806, 811, 812, 824, 825, 831, 835, 837, 838, 844, 845, 846, 849, 850, 851, 852, 860, 866, 867, 872, 876, 877, 883, 884, 885, 886, 887, 893, 894, 895, 896, 899, 900, 902, 903, 904, 911, 913, 915, 916, 917, 918, 921, 922, 927, 928, 938, 939, 940, 941, 945, 952, 953, 957, 958, 959, 967, 968, 971, 972, 973, 975, 976, 985, 986, 996, 997\n"
     ]
    }
   ],
   "source": [
    "epochs_blinks = epochs_blinks.drop(np.where(bad_epochs)[0])\n",
    "epochs_movement = epochs_movement.drop(np.where(bad_epochs_movement)[0])\n",
    "# epochs_movement.drop_bad();\n",
    "epoch_lists = [epochs_blinks,epochs_movement]\n",
    "time_window=(-0.125, 0.225)\n",
    "sme_results = compute_sme_erplab(epoch_lists,time_window)"
   ]
  },
  {
   "cell_type": "code",
   "execution_count": 189,
   "id": "161674cd",
   "metadata": {},
   "outputs": [
    {
     "name": "stdout",
     "output_type": "stream",
     "text": [
      "Applying baseline correction (mode: mean)\n",
      "aSME FCz 125–225 ms (70): 0.8276 μV\n",
      "aSME FCz 125–225 ms (80): 0.4881 μV\n",
      "Applying baseline correction (mode: mean)\n",
      "aSME FCz 125–225 ms (70): 0.9554 μV\n",
      "aSME FCz 125–225 ms (80): 0.5163 μV\n"
     ]
    }
   ],
   "source": [
    "import numpy as np\n",
    "\n",
    "for ep in [epochs_blinks, epochs_movement]:\n",
    "    epochs_bc = ep.copy().apply_baseline((-0.2, 0))\n",
    "    ch_name = 'FCz'\n",
    "    tmin, tmax = 0.125, 0.225  # 125–225 ms window\n",
    "    mask = (epochs_bc.times >= tmin) & (epochs_bc.times <= tmax)\n",
    "\n",
    "    bins = list(epochs_bc.event_id.keys())[2::]  \n",
    "    aSME_dict = {}\n",
    "    for b in bins:\n",
    "        data = epochs_bc[b].get_data()[:, epochs_bc.ch_names.index(ch_name), :] * 1e6  # volts → μV\n",
    "        trial_means = data[:, mask].mean(axis=1)  # mean per trial in window\n",
    "        aSME = trial_means.std() / np.sqrt(trial_means.size)  # standard error across trials\n",
    "        aSME_dict[b] = aSME\n",
    "\n",
    "    for b, val in aSME_dict.items():\n",
    "        print(f\"aSME FCz 125–225 ms ({b}): {val:.4f} μV\")"
   ]
  },
  {
   "cell_type": "code",
   "execution_count": 137,
   "id": "28348593",
   "metadata": {},
   "outputs": [
    {
     "name": "stderr",
     "output_type": "stream",
     "text": [
      "C:\\Users\\Keerti\\AppData\\Local\\Temp\\ipykernel_16020\\434201061.py:24: RuntimeWarning: Cannot find channel coordinates in the supplied Evokeds. Not showing channel locations.\n",
      "  plot_compare_evokeds(\n",
      "C:\\Users\\Keerti\\AppData\\Local\\Temp\\ipykernel_16020\\434201061.py:24: RuntimeWarning: Cannot find channel coordinates in the supplied Evokeds. Not showing channel locations.\n",
      "  plot_compare_evokeds(\n",
      "C:\\Users\\Keerti\\AppData\\Local\\Temp\\ipykernel_16020\\434201061.py:24: RuntimeWarning: Cannot find channel coordinates in the supplied Evokeds. Not showing channel locations.\n",
      "  plot_compare_evokeds(\n",
      "C:\\Users\\Keerti\\AppData\\Local\\Temp\\ipykernel_16020\\434201061.py:39: UserWarning: This figure includes Axes that are not compatible with tight_layout, so results might be incorrect.\n",
      "  plt.tight_layout()\n"
     ]
    }
   ],
   "source": [
    "import matplotlib.pyplot as plt\n",
    "from mne.viz import plot_compare_evokeds\n",
    "\n",
    "# Average epochs per condition\n",
    "eog_channels = [\"VEOG-bipolar\", \"VEOG-lower\",\"HEOG-bipolar\"]\n",
    "bad_indices = [i for i, reason in enumerate(epochs.drop_log) if reason]\n",
    "epochs_plot = epochs.copy()\n",
    "# epochs_plot = epochs[bad_indices].copy()\n",
    "# epochs_plot = epochs.copy();epochs_plot.drop_bad()\n",
    "epochs_plot.set_channel_types({ch: \"eeg\" for ch in eog_channels})\n",
    "\n",
    "evokeds = epochs_plot.average(by_event_type=True,picks='all')\n",
    "\n",
    "# Channels to plot individually\n",
    "channels = [\"FP2\", \"VEOG-lower\", \"VEOG-bipolar\", \"FCz\",\"HEOG-bipolar\",\"FP1\"]\n",
    "n_channels = len(channels)\n",
    "\n",
    "# Create subplots\n",
    "fig, axes = plt.subplots(3, 2, figsize=(4, 2.5 * n_channels), sharex=False)\n",
    "\n",
    "# Plot each channel separately using plot_compare_evokeds\n",
    "for ax, ch_name in zip(axes.flatten(), channels):\n",
    "    cnt = 0\n",
    "    plot_compare_evokeds(\n",
    "        {\"standard\": evokeds[3], \"deviant\": evokeds[2]},\n",
    "        picks=[ch_name],\n",
    "        axes=[ax],\n",
    "        combine=None,  # plot each channel individually\n",
    "        colors={\"standard\": \"blue\", \"deviant\": \"red\"},\n",
    "        truncate_yaxis=False,\n",
    "        truncate_xaxis=False,\n",
    "        # ylim={'eeg':[-10,10]}\n",
    "    )\n",
    "    ax.set_title(ch_name)\n",
    "    cnt += 1\n",
    "    # ax.set_ylim(-20, 20)\n",
    "\n",
    "# axes[-1].set_xlabel(\"Time (s)\")\n",
    "plt.tight_layout()\n",
    "plt.show()\n"
   ]
  }
 ],
 "metadata": {
  "kernelspec": {
   "display_name": ".venv",
   "language": "python",
   "name": "python3"
  },
  "language_info": {
   "codemirror_mode": {
    "name": "ipython",
    "version": 3
   },
   "file_extension": ".py",
   "mimetype": "text/x-python",
   "name": "python",
   "nbconvert_exporter": "python",
   "pygments_lexer": "ipython3",
   "version": "3.13.3"
  }
 },
 "nbformat": 4,
 "nbformat_minor": 5
}
